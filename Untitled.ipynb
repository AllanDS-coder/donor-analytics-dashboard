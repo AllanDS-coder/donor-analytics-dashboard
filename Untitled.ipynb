{
 "cells": [
  {
   "cell_type": "code",
   "execution_count": 1,
   "id": "217c27e5-cc2a-440b-9c26-b61e10bda782",
   "metadata": {},
   "outputs": [],
   "source": [
    "# Install dependency\n",
    "!pip install -q openpyxl\n",
    "\n",
    "# Upgrade pip safely using current Python interpreter\n",
    "import sys\n",
    "!{sys.executable} -m pip install -q --upgrade pip\n",
    "\n"
   ]
  },
  {
   "cell_type": "code",
   "execution_count": 2,
   "id": "722757b0-b0eb-42f2-8366-a3cddbe50e48",
   "metadata": {},
   "outputs": [],
   "source": [
    "#import necessary libraries \n",
    "import pandas as pd\n",
    "import plotly.express as px \n",
    "import matplotlib.pyplot as plt\n",
    "import seaborn as sns\n",
    "import numpy as np"
   ]
  },
  {
   "cell_type": "code",
   "execution_count": 3,
   "id": "d52bf0c3-d12b-4e86-a3d0-9296e18c95d8",
   "metadata": {},
   "outputs": [
    {
     "data": {
      "text/html": [
       "<div>\n",
       "<style scoped>\n",
       "    .dataframe tbody tr th:only-of-type {\n",
       "        vertical-align: middle;\n",
       "    }\n",
       "\n",
       "    .dataframe tbody tr th {\n",
       "        vertical-align: top;\n",
       "    }\n",
       "\n",
       "    .dataframe thead th {\n",
       "        text-align: right;\n",
       "    }\n",
       "</style>\n",
       "<table border=\"1\" class=\"dataframe\">\n",
       "  <thead>\n",
       "    <tr style=\"text-align: right;\">\n",
       "      <th></th>\n",
       "      <th>Donor Name</th>\n",
       "      <th>Contact Email</th>\n",
       "      <th>Phone</th>\n",
       "      <th>Donations 2022</th>\n",
       "      <th>Donations 2023</th>\n",
       "      <th>Donations 2024</th>\n",
       "      <th>Last Gift Date</th>\n",
       "      <th>Gift Frequency</th>\n",
       "      <th>Event Attendance</th>\n",
       "      <th>Relationship Notes</th>\n",
       "    </tr>\n",
       "  </thead>\n",
       "  <tbody>\n",
       "    <tr>\n",
       "      <th>0</th>\n",
       "      <td>Susan Robinson</td>\n",
       "      <td>susan.robinson@example.com</td>\n",
       "      <td>(484)-902-7196</td>\n",
       "      <td>4267.59</td>\n",
       "      <td>2234.24</td>\n",
       "      <td>0.0</td>\n",
       "      <td>2023-03-10</td>\n",
       "      <td>Annual</td>\n",
       "      <td>No</td>\n",
       "      <td>Community Partner</td>\n",
       "    </tr>\n",
       "    <tr>\n",
       "      <th>1</th>\n",
       "      <td>Lisa Brown</td>\n",
       "      <td>lisa.brown@example.com</td>\n",
       "      <td>(429)-965-9203</td>\n",
       "      <td>1248.66</td>\n",
       "      <td>2725.43</td>\n",
       "      <td>0.0</td>\n",
       "      <td>2023-10-28</td>\n",
       "      <td>Quarterly</td>\n",
       "      <td>No</td>\n",
       "      <td>Volunteer</td>\n",
       "    </tr>\n",
       "  </tbody>\n",
       "</table>\n",
       "</div>"
      ],
      "text/plain": [
       "       Donor Name               Contact Email           Phone  Donations 2022  \\\n",
       "0  Susan Robinson  susan.robinson@example.com  (484)-902-7196         4267.59   \n",
       "1      Lisa Brown      lisa.brown@example.com  (429)-965-9203         1248.66   \n",
       "\n",
       "   Donations 2023  Donations 2024 Last Gift Date Gift Frequency  \\\n",
       "0         2234.24             0.0     2023-03-10         Annual   \n",
       "1         2725.43             0.0     2023-10-28      Quarterly   \n",
       "\n",
       "  Event Attendance Relationship Notes  \n",
       "0               No  Community Partner  \n",
       "1               No          Volunteer  "
      ]
     },
     "execution_count": 3,
     "metadata": {},
     "output_type": "execute_result"
    }
   ],
   "source": [
    "#load data\n",
    "path = \"Bookkeeper_Assignment_Donor_Data (1) (1)(2).xlsx\"\n",
    "data = pd.read_excel(path)\n",
    "data.head(2)"
   ]
  },
  {
   "cell_type": "markdown",
   "id": "00171ac6-e1d0-4e0a-94ef-cad417641027",
   "metadata": {},
   "source": [
    "## Data Pre-Processing "
   ]
  },
  {
   "cell_type": "code",
   "execution_count": 4,
   "id": "efec374a-8ef3-4cf9-a0ed-1537453ac1d7",
   "metadata": {},
   "outputs": [
    {
     "name": "stdout",
     "output_type": "stream",
     "text": [
      "<class 'pandas.core.frame.DataFrame'>\n",
      "RangeIndex: 25 entries, 0 to 24\n",
      "Data columns (total 10 columns):\n",
      " #   Column              Non-Null Count  Dtype  \n",
      "---  ------              --------------  -----  \n",
      " 0   Donor Name          25 non-null     object \n",
      " 1   Contact Email       25 non-null     object \n",
      " 2   Phone               25 non-null     object \n",
      " 3   Donations 2022      25 non-null     float64\n",
      " 4   Donations 2023      25 non-null     float64\n",
      " 5   Donations 2024      25 non-null     float64\n",
      " 6   Last Gift Date      25 non-null     object \n",
      " 7   Gift Frequency      25 non-null     object \n",
      " 8   Event Attendance    25 non-null     object \n",
      " 9   Relationship Notes  17 non-null     object \n",
      "dtypes: float64(3), object(7)\n",
      "memory usage: 2.1+ KB\n"
     ]
    }
   ],
   "source": [
    "#data description\n",
    "data.info()"
   ]
  },
  {
   "cell_type": "code",
   "execution_count": 5,
   "id": "a65a6f20-6e7a-4104-b6e2-f12642274b2e",
   "metadata": {},
   "outputs": [],
   "source": [
    "# convert last gift date to date data type\n",
    "# format phone numbers\n",
    "# replace NaN with appropriate relationships notes "
   ]
  },
  {
   "cell_type": "code",
   "execution_count": 6,
   "id": "bd8785e0-3ba3-4f75-802c-56de812c19a1",
   "metadata": {},
   "outputs": [
    {
     "data": {
      "text/plain": [
       "Index(['Donor Name', 'Contact Email', 'Phone', 'Donations 2022',\n",
       "       'Donations 2023', 'Donations 2024', 'Last Gift Date', 'Gift Frequency',\n",
       "       'Event Attendance', 'Relationship Notes'],\n",
       "      dtype='object')"
      ]
     },
     "execution_count": 6,
     "metadata": {},
     "output_type": "execute_result"
    }
   ],
   "source": [
    "data.columns"
   ]
  },
  {
   "cell_type": "code",
   "execution_count": 7,
   "id": "ecf8b458-ca6e-42c2-8d1d-5b741fe48b98",
   "metadata": {},
   "outputs": [],
   "source": [
    "#Erase objects, symbols, and signs to leave integers only\n",
    "data[\"Phone\"] = data[\"Phone\"].str.replace(r\"\\D\", \"\", regex = True)\n",
    "\n",
    "#formating phone numbers in US standard format\n",
    "def phonenumber_format(phonenumber):\n",
    "    if pd.isna(phonenumber) or len(phonenumber) != 10:\n",
    "        return phonenumber\n",
    "    return f\"({phonenumber[:3]})-{phonenumber[3:6]}-{phonenumber[6:]}\"\n",
    "data[\"Phone\"] = data[\"Phone\"].apply(phonenumber_format)\n"
   ]
  },
  {
   "cell_type": "code",
   "execution_count": 8,
   "id": "3020e048-f0d3-417d-8dad-7d4d6fb371d1",
   "metadata": {},
   "outputs": [],
   "source": [
    "#conver last date gift to date time format\n",
    "#data[\"Last Gift Date\"] = pd.to_datetime(data[\"Last Gift Date\"])\n",
    "data[\"Last Gift Date\"] = pd.to_datetime(data[\"Last Gift Date\"]).dt.strftime('%Y-%m-%d')\n"
   ]
  },
  {
   "cell_type": "code",
   "execution_count": 9,
   "id": "f986d810-99d0-47c7-8c4d-335c7bdedd8a",
   "metadata": {},
   "outputs": [
    {
     "name": "stdout",
     "output_type": "stream",
     "text": [
      "['Community Partner' 'Volunteer' nan 'Board Member']\n",
      "['Community Partner' 'Volunteer' 'Unknown' 'Board Member']\n"
     ]
    }
   ],
   "source": [
    "print (data[\"Relationship Notes\"].unique()), \"\\n\"\n",
    "\n",
    "data[\"Relationship Notes\"] = data[\"Relationship Notes\"].fillna(\"Unknown\")\n",
    "\n",
    "print(data[\"Relationship Notes\"].unique())"
   ]
  },
  {
   "cell_type": "code",
   "execution_count": 10,
   "id": "ca347c04-687e-4d4e-84b5-fbc616d24bd3",
   "metadata": {},
   "outputs": [],
   "source": [
    "# Check for duplicates and missing values "
   ]
  },
  {
   "cell_type": "code",
   "execution_count": 11,
   "id": "6faf53a3-02be-437a-af8e-6d4bc373ef66",
   "metadata": {},
   "outputs": [
    {
     "data": {
      "text/html": [
       "<div>\n",
       "<style scoped>\n",
       "    .dataframe tbody tr th:only-of-type {\n",
       "        vertical-align: middle;\n",
       "    }\n",
       "\n",
       "    .dataframe tbody tr th {\n",
       "        vertical-align: top;\n",
       "    }\n",
       "\n",
       "    .dataframe thead th {\n",
       "        text-align: right;\n",
       "    }\n",
       "</style>\n",
       "<table border=\"1\" class=\"dataframe\">\n",
       "  <thead>\n",
       "    <tr style=\"text-align: right;\">\n",
       "      <th></th>\n",
       "      <th>Donor Name</th>\n",
       "      <th>Contact Email</th>\n",
       "      <th>Phone</th>\n",
       "      <th>Donations 2022</th>\n",
       "      <th>Donations 2023</th>\n",
       "      <th>Donations 2024</th>\n",
       "      <th>Last Gift Date</th>\n",
       "      <th>Gift Frequency</th>\n",
       "      <th>Event Attendance</th>\n",
       "      <th>Relationship Notes</th>\n",
       "    </tr>\n",
       "  </thead>\n",
       "  <tbody>\n",
       "    <tr>\n",
       "      <th>4</th>\n",
       "      <td>Joseph Walker</td>\n",
       "      <td>joseph.walker@example.com</td>\n",
       "      <td>(587)-543-6001</td>\n",
       "      <td>81.44</td>\n",
       "      <td>858.17</td>\n",
       "      <td>3151.14</td>\n",
       "      <td>2023-12-26</td>\n",
       "      <td>Annual</td>\n",
       "      <td>No</td>\n",
       "      <td>Volunteer</td>\n",
       "    </tr>\n",
       "    <tr>\n",
       "      <th>6</th>\n",
       "      <td>David Robinson</td>\n",
       "      <td>david.robinson@example.com</td>\n",
       "      <td>(311)-575-3425</td>\n",
       "      <td>4799.67</td>\n",
       "      <td>1549.64</td>\n",
       "      <td>1723.71</td>\n",
       "      <td>2022-06-02</td>\n",
       "      <td>Quarterly</td>\n",
       "      <td>Yes</td>\n",
       "      <td>Volunteer</td>\n",
       "    </tr>\n",
       "    <tr>\n",
       "      <th>9</th>\n",
       "      <td>Joseph Walker</td>\n",
       "      <td>joseph.walker@example.com</td>\n",
       "      <td>(759)-598-9374</td>\n",
       "      <td>3085.40</td>\n",
       "      <td>1244.90</td>\n",
       "      <td>0.00</td>\n",
       "      <td>2022-04-12</td>\n",
       "      <td>Annual</td>\n",
       "      <td>Yes</td>\n",
       "      <td>Board Member</td>\n",
       "    </tr>\n",
       "    <tr>\n",
       "      <th>13</th>\n",
       "      <td>David Robinson</td>\n",
       "      <td>david.robinson@example.com</td>\n",
       "      <td>(293)-440-4829</td>\n",
       "      <td>3963.14</td>\n",
       "      <td>97.02</td>\n",
       "      <td>3959.01</td>\n",
       "      <td>2024-02-21</td>\n",
       "      <td>Annual</td>\n",
       "      <td>No</td>\n",
       "      <td>Board Member</td>\n",
       "    </tr>\n",
       "    <tr>\n",
       "      <th>14</th>\n",
       "      <td>Linda Rodriguez</td>\n",
       "      <td>linda.rodriguez@example.com</td>\n",
       "      <td>(668)-179-3212</td>\n",
       "      <td>1052.06</td>\n",
       "      <td>480.32</td>\n",
       "      <td>2305.66</td>\n",
       "      <td>2024-10-10</td>\n",
       "      <td>Annual</td>\n",
       "      <td>No</td>\n",
       "      <td>Community Partner</td>\n",
       "    </tr>\n",
       "    <tr>\n",
       "      <th>20</th>\n",
       "      <td>Linda Rodriguez</td>\n",
       "      <td>linda.rodriguez@example.com</td>\n",
       "      <td>(970)-146-7591</td>\n",
       "      <td>2517.15</td>\n",
       "      <td>994.72</td>\n",
       "      <td>2666.69</td>\n",
       "      <td>2024-09-09</td>\n",
       "      <td>Annual</td>\n",
       "      <td>Yes</td>\n",
       "      <td>Board Member</td>\n",
       "    </tr>\n",
       "  </tbody>\n",
       "</table>\n",
       "</div>"
      ],
      "text/plain": [
       "         Donor Name                Contact Email           Phone  \\\n",
       "4     Joseph Walker    joseph.walker@example.com  (587)-543-6001   \n",
       "6    David Robinson   david.robinson@example.com  (311)-575-3425   \n",
       "9     Joseph Walker    joseph.walker@example.com  (759)-598-9374   \n",
       "13   David Robinson   david.robinson@example.com  (293)-440-4829   \n",
       "14  Linda Rodriguez  linda.rodriguez@example.com  (668)-179-3212   \n",
       "20  Linda Rodriguez  linda.rodriguez@example.com  (970)-146-7591   \n",
       "\n",
       "    Donations 2022  Donations 2023  Donations 2024 Last Gift Date  \\\n",
       "4            81.44          858.17         3151.14     2023-12-26   \n",
       "6          4799.67         1549.64         1723.71     2022-06-02   \n",
       "9          3085.40         1244.90            0.00     2022-04-12   \n",
       "13         3963.14           97.02         3959.01     2024-02-21   \n",
       "14         1052.06          480.32         2305.66     2024-10-10   \n",
       "20         2517.15          994.72         2666.69     2024-09-09   \n",
       "\n",
       "   Gift Frequency Event Attendance Relationship Notes  \n",
       "4          Annual               No          Volunteer  \n",
       "6       Quarterly              Yes          Volunteer  \n",
       "9          Annual              Yes       Board Member  \n",
       "13         Annual               No       Board Member  \n",
       "14         Annual               No  Community Partner  \n",
       "20         Annual              Yes       Board Member  "
      ]
     },
     "execution_count": 11,
     "metadata": {},
     "output_type": "execute_result"
    }
   ],
   "source": [
    "Donor_duplicates = data[data.duplicated(subset = [\"Donor Name\"], keep =False)]\n",
    "Donor_duplicates\n"
   ]
  },
  {
   "cell_type": "markdown",
   "id": "93a223fd-6d1e-4e26-864c-fd06ac2c9fd9",
   "metadata": {},
   "source": [
    "#### Dealing with duplicated donor entries and data\n",
    "I would like to sort the data by:\n",
    "- Combining phone numbers\n",
    "- Summing all donations\n",
    "- Keeping most recent last gift \n",
    "- Combining gift frequency \n",
    "- Keep event attendance yes if any yes\n",
    "- Combining unique relationship notes"
   ]
  },
  {
   "cell_type": "code",
   "execution_count": 12,
   "id": "bd897d47-953c-4b7a-a2df-400f0b87b6b0",
   "metadata": {},
   "outputs": [],
   "source": [
    "#functions that clean data as expected \n",
    "def combine_phones(series):\n",
    "    phones = series.dropna().unique()\n",
    "    return \"; \".join(phones)\n",
    "\n",
    "def combine_frequencies(series):\n",
    "    freqs = series.dropna().unique()\n",
    "    return \"; \".join(freqs)\n",
    "\n",
    "def combine_event_attendance(series):\n",
    "    return \"Yes\" if \"Yes\" in series.values else \"No\"\n",
    "\n",
    "def combine_relationship_notes(series):\n",
    "    notes = series.dropna().unique()\n",
    "    return \"; \".join(notes)\n",
    "\n",
    "# Group by Donor Name and Email (to uniquely identify a donor)\n",
    "combined = data.groupby([\"Donor Name\", \"Contact Email\"]).agg({\n",
    "    \"Phone\": combine_phones,\n",
    "    \"Donations 2022\": \"sum\",\n",
    "    \"Donations 2023\": \"sum\",\n",
    "    \"Donations 2024\": \"sum\",\n",
    "    \"Last Gift Date\": \"max\",\n",
    "    \"Gift Frequency\": combine_frequencies,\n",
    "    \"Event Attendance\": combine_event_attendance,\n",
    "    \"Relationship Notes\": combine_relationship_notes\n",
    "}).reset_index()\n"
   ]
  },
  {
   "cell_type": "code",
   "execution_count": 13,
   "id": "8cb16391-c255-4c75-b9a6-301a22de59d1",
   "metadata": {},
   "outputs": [],
   "source": [
    "# Delete duplicates\n",
    "Clean_data = data.drop(Donor_duplicates.index)\n",
    "\n",
    "# Append the cleaned aggregates\n",
    "data = pd.concat([Clean_data, combined], ignore_index=True)\n"
   ]
  },
  {
   "cell_type": "code",
   "execution_count": 14,
   "id": "202e1750-f6b6-4def-9962-36f4908a91cb",
   "metadata": {},
   "outputs": [],
   "source": [
    "#save data\n",
    "data.to_excel(\"cleandata.xlsx\")"
   ]
  },
  {
   "cell_type": "code",
   "execution_count": 15,
   "id": "ec7f328d-c96c-4b2d-b5db-7e3608b1ef9e",
   "metadata": {},
   "outputs": [
    {
     "data": {
      "text/html": [
       "<div>\n",
       "<style scoped>\n",
       "    .dataframe tbody tr th:only-of-type {\n",
       "        vertical-align: middle;\n",
       "    }\n",
       "\n",
       "    .dataframe tbody tr th {\n",
       "        vertical-align: top;\n",
       "    }\n",
       "\n",
       "    .dataframe thead th {\n",
       "        text-align: right;\n",
       "    }\n",
       "</style>\n",
       "<table border=\"1\" class=\"dataframe\">\n",
       "  <thead>\n",
       "    <tr style=\"text-align: right;\">\n",
       "      <th></th>\n",
       "      <th>Donor Name</th>\n",
       "      <th>Contact Email</th>\n",
       "      <th>Phone</th>\n",
       "      <th>Donations 2022</th>\n",
       "      <th>Donations 2023</th>\n",
       "      <th>Donations 2024</th>\n",
       "      <th>Last Gift Date</th>\n",
       "      <th>Gift Frequency</th>\n",
       "      <th>Event Attendance</th>\n",
       "      <th>Relationship Notes</th>\n",
       "    </tr>\n",
       "  </thead>\n",
       "  <tbody>\n",
       "    <tr>\n",
       "      <th>0</th>\n",
       "      <td>Susan Robinson</td>\n",
       "      <td>susan.robinson@example.com</td>\n",
       "      <td>(484)-902-7196</td>\n",
       "      <td>4267.59</td>\n",
       "      <td>2234.24</td>\n",
       "      <td>0.00</td>\n",
       "      <td>2023-03-10</td>\n",
       "      <td>Annual</td>\n",
       "      <td>No</td>\n",
       "      <td>Community Partner</td>\n",
       "    </tr>\n",
       "    <tr>\n",
       "      <th>1</th>\n",
       "      <td>Lisa Brown</td>\n",
       "      <td>lisa.brown@example.com</td>\n",
       "      <td>(429)-965-9203</td>\n",
       "      <td>1248.66</td>\n",
       "      <td>2725.43</td>\n",
       "      <td>0.00</td>\n",
       "      <td>2023-10-28</td>\n",
       "      <td>Quarterly</td>\n",
       "      <td>No</td>\n",
       "      <td>Volunteer</td>\n",
       "    </tr>\n",
       "    <tr>\n",
       "      <th>2</th>\n",
       "      <td>William Johnson</td>\n",
       "      <td>william.johnson@example.com</td>\n",
       "      <td>(284)-404-5846</td>\n",
       "      <td>2141.78</td>\n",
       "      <td>4269.25</td>\n",
       "      <td>4483.50</td>\n",
       "      <td>2024-04-07</td>\n",
       "      <td>Quarterly</td>\n",
       "      <td>No</td>\n",
       "      <td>Unknown</td>\n",
       "    </tr>\n",
       "    <tr>\n",
       "      <th>3</th>\n",
       "      <td>Lisa Jackson</td>\n",
       "      <td>lisa.jackson@example.com</td>\n",
       "      <td>(716)-792-6697</td>\n",
       "      <td>1904.55</td>\n",
       "      <td>118.20</td>\n",
       "      <td>1180.41</td>\n",
       "      <td>2022-07-14</td>\n",
       "      <td>One-time</td>\n",
       "      <td>Yes</td>\n",
       "      <td>Board Member</td>\n",
       "    </tr>\n",
       "    <tr>\n",
       "      <th>4</th>\n",
       "      <td>Patricia Lee</td>\n",
       "      <td>patricia.lee@example.com</td>\n",
       "      <td>(659)-545-5712</td>\n",
       "      <td>4091.23</td>\n",
       "      <td>4239.53</td>\n",
       "      <td>1342.01</td>\n",
       "      <td>2024-01-02</td>\n",
       "      <td>Annual</td>\n",
       "      <td>No</td>\n",
       "      <td>Community Partner</td>\n",
       "    </tr>\n",
       "  </tbody>\n",
       "</table>\n",
       "</div>"
      ],
      "text/plain": [
       "        Donor Name                Contact Email           Phone  \\\n",
       "0   Susan Robinson   susan.robinson@example.com  (484)-902-7196   \n",
       "1       Lisa Brown       lisa.brown@example.com  (429)-965-9203   \n",
       "2  William Johnson  william.johnson@example.com  (284)-404-5846   \n",
       "3     Lisa Jackson     lisa.jackson@example.com  (716)-792-6697   \n",
       "4     Patricia Lee     patricia.lee@example.com  (659)-545-5712   \n",
       "\n",
       "   Donations 2022  Donations 2023  Donations 2024 Last Gift Date  \\\n",
       "0         4267.59         2234.24            0.00     2023-03-10   \n",
       "1         1248.66         2725.43            0.00     2023-10-28   \n",
       "2         2141.78         4269.25         4483.50     2024-04-07   \n",
       "3         1904.55          118.20         1180.41     2022-07-14   \n",
       "4         4091.23         4239.53         1342.01     2024-01-02   \n",
       "\n",
       "  Gift Frequency Event Attendance Relationship Notes  \n",
       "0         Annual               No  Community Partner  \n",
       "1      Quarterly               No          Volunteer  \n",
       "2      Quarterly               No            Unknown  \n",
       "3       One-time              Yes       Board Member  \n",
       "4         Annual               No  Community Partner  "
      ]
     },
     "execution_count": 15,
     "metadata": {},
     "output_type": "execute_result"
    }
   ],
   "source": [
    "#preview data\n",
    "data.head()"
   ]
  },
  {
   "cell_type": "markdown",
   "id": "c9157754-b299-4a2d-8aee-bf03effca404",
   "metadata": {},
   "source": [
    "# Data Management & Donor Cultivation Analysis"
   ]
  },
  {
   "cell_type": "code",
   "execution_count": 16,
   "id": "e7eef36b-e33e-4d5e-be72-505c0cc07327",
   "metadata": {},
   "outputs": [],
   "source": [
    "#highest and lowest donors in all subsequent years \n",
    "\n",
    "#calculate and create column for total donations \n",
    "data[\"TotalDonations\"] = data[\"Donations 2022\"] + data[\"Donations 2023\"] + data[\"Donations 2024\"]\n",
    "\n",
    "#save data\n",
    "data.to_excel(\"cleandata.xlsx\")\n",
    "\n",
    "#return highest donor with necessary details\n",
    "max_donor = data.loc[data['TotalDonations'].idxmax(), ['Donor Name', 'Phone', \n",
    "                                                       'Donations 2022','Donations 2023',\n",
    "                                                       'Donations 2024', 'TotalDonations','Last Gift Date',\n",
    "                                                        'Gift Frequency','Event Attendance', 'Relationship Notes']]\n",
    "\n",
    "\n",
    "#return lowest donor with necessary details\n",
    "min_donor = data.loc[data['TotalDonations'].idxmin(), ['Donor Name', 'Phone', \n",
    "                                                       'Donations 2022','Donations 2023',\n",
    "                                                       'Donations 2024', 'TotalDonations','Last Gift Date',\n",
    "                                                        'Gift Frequency','Event Attendance', 'Relationship Notes']]\n",
    "\n",
    "#return average donations over the years\n",
    "ave_total_donation = data[\"TotalDonations\"].mean()"
   ]
  },
  {
   "cell_type": "code",
   "execution_count": 17,
   "id": "18f3e93e-079e-4a00-aefa-0885eb45bf07",
   "metadata": {},
   "outputs": [
    {
     "name": "stdout",
     "output_type": "stream",
     "text": [
      "Highest Donor \n",
      " Donor Name                            David Robinson\n",
      "Phone                 (311)-575-3425; (293)-440-4829\n",
      "Donations 2022                               8762.81\n",
      "Donations 2023                               1646.66\n",
      "Donations 2024                               5682.72\n",
      "TotalDonations                              16092.19\n",
      "Last Gift Date                            2024-02-21\n",
      "Gift Frequency                     Quarterly; Annual\n",
      "Event Attendance                                 Yes\n",
      "Relationship Notes           Volunteer; Board Member\n",
      "Name: 22, dtype: object \n",
      "\n",
      "Lowest Donor \n",
      " Donor Name            Elizabeth Clark\n",
      "Phone                  (513)-458-9879\n",
      "Donations 2022                  51.32\n",
      "Donations 2023                1474.42\n",
      "Donations 2024                    0.0\n",
      "TotalDonations                1525.74\n",
      "Last Gift Date             2022-01-07\n",
      "Gift Frequency              Quarterly\n",
      "Event Attendance                  Yes\n",
      "Relationship Notes          Volunteer\n",
      "Name: 8, dtype: object \n",
      "\n",
      "Average Donation over the years \n",
      " 7090.26\n"
     ]
    }
   ],
   "source": [
    "print(\"Highest Donor\",\"\\n\", max_donor,\"\\n\")\n",
    "print (\"Lowest Donor\",\"\\n\", min_donor,\"\\n\")\n",
    "print(\"Average Donation over the years\", \"\\n\", round(ave_total_donation,2))"
   ]
  },
  {
   "cell_type": "code",
   "execution_count": 18,
   "id": "c93e954b-ca58-4492-be2c-97581124b979",
   "metadata": {},
   "outputs": [],
   "source": [
    "#highest and lowest donors in their respective years \n",
    "\n",
    "#return highest donor with necessary details\n",
    "max_donor_2022 = data.loc[data[\"Donations 2022\"].idxmax(), ['Donor Name', 'Phone', \n",
    "                                                       'Donations 2022','Donations 2023',\n",
    "                                                       'Donations 2024', 'TotalDonations','Last Gift Date',\n",
    "                                                        'Gift Frequency','Event Attendance', 'Relationship Notes']]\n",
    "\n",
    "\n",
    "#return lowest donor with necessary details\n",
    "max_donor_2023 = data.loc[data['Donations 2023'].idxmin(), ['Donor Name', 'Phone', \n",
    "                                                       'Donations 2022','Donations 2023',\n",
    "                                                       'Donations 2024', 'TotalDonations','Last Gift Date', \n",
    "                                                        'Gift Frequency', 'Event Attendance', 'Relationship Notes']]\n",
    "#return highest donor with necessary details\n",
    "max_donor_2024 = data.loc[data[\"Donations 2024\"].idxmax(), ['Donor Name', 'Phone', \n",
    "                                                       'Donations 2022','Donations 2023',\n",
    "                                                       'Donations 2024', 'TotalDonations','Last Gift Date',\n",
    "                                                        'Gift Frequency','Event Attendance', 'Relationship Notes']]\n"
   ]
  },
  {
   "cell_type": "code",
   "execution_count": 19,
   "id": "d315d5bb-aa70-4515-b318-3f6af16f3c94",
   "metadata": {},
   "outputs": [
    {
     "name": "stdout",
     "output_type": "stream",
     "text": [
      "Highest Donor 2022 and Amounts contributed in other years \n",
      " Donor Name                            David Robinson\n",
      "Phone                 (311)-575-3425; (293)-440-4829\n",
      "Donations 2022                               8762.81\n",
      "Donations 2023                               1646.66\n",
      "Donations 2024                               5682.72\n",
      "TotalDonations                              16092.19\n",
      "Last Gift Date                            2024-02-21\n",
      "Gift Frequency                     Quarterly; Annual\n",
      "Event Attendance                                 Yes\n",
      "Relationship Notes           Volunteer; Board Member\n",
      "Name: 22, dtype: object \n",
      "\n",
      "Highest Donor 2023 and Amounts contributed in other years \n",
      " Donor Name              Lisa Jackson\n",
      "Phone                 (716)-792-6697\n",
      "Donations 2022               1904.55\n",
      "Donations 2023                 118.2\n",
      "Donations 2024               1180.41\n",
      "TotalDonations               3203.16\n",
      "Last Gift Date            2022-07-14\n",
      "Gift Frequency              One-time\n",
      "Event Attendance                 Yes\n",
      "Relationship Notes      Board Member\n",
      "Name: 3, dtype: object \n",
      "\n",
      "Highest Donor 2024 and Amounts contributed in other years \n",
      " Donor Name                            David Robinson\n",
      "Phone                 (311)-575-3425; (293)-440-4829\n",
      "Donations 2022                               8762.81\n",
      "Donations 2023                               1646.66\n",
      "Donations 2024                               5682.72\n",
      "TotalDonations                              16092.19\n",
      "Last Gift Date                            2024-02-21\n",
      "Gift Frequency                     Quarterly; Annual\n",
      "Event Attendance                                 Yes\n",
      "Relationship Notes           Volunteer; Board Member\n",
      "Name: 22, dtype: object\n"
     ]
    }
   ],
   "source": [
    "print(\"Highest Donor 2022 and Amounts contributed in other years\",\"\\n\", max_donor_2022, \"\\n\")\n",
    "print(\"Highest Donor 2023 and Amounts contributed in other years\",\"\\n\", max_donor_2023, \"\\n\")\n",
    "print(\"Highest Donor 2024 and Amounts contributed in other years\",\"\\n\", max_donor_2024)"
   ]
  },
  {
   "cell_type": "code",
   "execution_count": 20,
   "id": "99dcf72c-3ebd-4666-aa55-1ee9e379db7a",
   "metadata": {},
   "outputs": [
    {
     "name": "stdout",
     "output_type": "stream",
     "text": [
      "Average donations for each year is as follows:\n",
      "\n",
      "Donations 2022: $2567.14\n",
      "Donations 2023: $2421.57\n",
      "Donations 2024: $2101.56\n",
      "TotalDonations: $7090.26\n"
     ]
    }
   ],
   "source": [
    "#return average donations over the years\n",
    "yearly_donations = data[[\"Donations 2022\", \"Donations 2023\",\"Donations 2024\", \"TotalDonations\"]]\n",
    "ave_donation = round(yearly_donations.mean(), 2)\n",
    "print(\"Average donations for each year is as follows:\\n\")\n",
    "for year, avg in ave_donation.items():\n",
    "    print(f\"{year}: ${avg}\")"
   ]
  },
  {
   "cell_type": "markdown",
   "id": "35cbab41-c5b9-40f9-80b2-45ee820e5be3",
   "metadata": {},
   "source": [
    "## DATA ENGINEERING: Top n Donors and Bottom n Donors \n",
    "Where n represents rank in numbers (i.e the top 10 donors)\n",
    "### Donations by Year and TotalDonations over the Years"
   ]
  },
  {
   "cell_type": "code",
   "execution_count": 21,
   "id": "da88f835-dfbd-4d53-a152-b3e2d5333131",
   "metadata": {},
   "outputs": [],
   "source": [
    "#sort donors by ascending order and create new columns \n",
    "Topdonors_2022 = data.sort_values(by=\"Donations 2022\", ascending=False)\n",
    "Topdonors_2023 = data.sort_values(by=\"Donations 2023\", ascending=False)\n",
    "Topdonors_2024 = data.sort_values(by=\"Donations 2024\", ascending=False)\n",
    "Topdonors_allyears = data.sort_values(by = \"TotalDonations\", ascending = False)"
   ]
  },
  {
   "cell_type": "code",
   "execution_count": 22,
   "id": "42f85a03-2ba8-4161-b14f-7f449f486eae",
   "metadata": {},
   "outputs": [
    {
     "data": {
      "text/plain": [
       "Index(['Donor Name', 'Contact Email', 'Phone', 'Donations 2022',\n",
       "       'Donations 2023', 'Donations 2024', 'Last Gift Date', 'Gift Frequency',\n",
       "       'Event Attendance', 'Relationship Notes', 'TotalDonations'],\n",
       "      dtype='object')"
      ]
     },
     "execution_count": 22,
     "metadata": {},
     "output_type": "execute_result"
    }
   ],
   "source": [
    "Topdonors_2022.columns\n"
   ]
  },
  {
   "cell_type": "code",
   "execution_count": 23,
   "id": "f1e95c90-7e0e-4d61-b9ea-b1687f6329d4",
   "metadata": {},
   "outputs": [
    {
     "data": {
      "text/html": [
       "<div>\n",
       "<style scoped>\n",
       "    .dataframe tbody tr th:only-of-type {\n",
       "        vertical-align: middle;\n",
       "    }\n",
       "\n",
       "    .dataframe tbody tr th {\n",
       "        vertical-align: top;\n",
       "    }\n",
       "\n",
       "    .dataframe thead th {\n",
       "        text-align: right;\n",
       "    }\n",
       "</style>\n",
       "<table border=\"1\" class=\"dataframe\">\n",
       "  <thead>\n",
       "    <tr style=\"text-align: right;\">\n",
       "      <th></th>\n",
       "      <th>Donor Name</th>\n",
       "      <th>Last Gift Date</th>\n",
       "      <th>Gift Frequency</th>\n",
       "      <th>Event Attendance</th>\n",
       "      <th>Relationship Notes</th>\n",
       "      <th>TotalDonations</th>\n",
       "    </tr>\n",
       "  </thead>\n",
       "  <tbody>\n",
       "    <tr>\n",
       "      <th>20</th>\n",
       "      <td>Daniel Harris</td>\n",
       "      <td>2022-06-27</td>\n",
       "      <td>Quarterly</td>\n",
       "      <td>No</td>\n",
       "      <td>Volunteer</td>\n",
       "      <td>4184.96</td>\n",
       "    </tr>\n",
       "    <tr>\n",
       "      <th>7</th>\n",
       "      <td>Daniel Harris</td>\n",
       "      <td>2022-06-27</td>\n",
       "      <td>Quarterly</td>\n",
       "      <td>No</td>\n",
       "      <td>Volunteer</td>\n",
       "      <td>4184.96</td>\n",
       "    </tr>\n",
       "    <tr>\n",
       "      <th>1</th>\n",
       "      <td>Lisa Brown</td>\n",
       "      <td>2023-10-28</td>\n",
       "      <td>Quarterly</td>\n",
       "      <td>No</td>\n",
       "      <td>Volunteer</td>\n",
       "      <td>3974.09</td>\n",
       "    </tr>\n",
       "    <tr>\n",
       "      <th>31</th>\n",
       "      <td>Lisa Brown</td>\n",
       "      <td>2023-10-28</td>\n",
       "      <td>Quarterly</td>\n",
       "      <td>No</td>\n",
       "      <td>Volunteer</td>\n",
       "      <td>3974.09</td>\n",
       "    </tr>\n",
       "    <tr>\n",
       "      <th>17</th>\n",
       "      <td>Daniel Johnson</td>\n",
       "      <td>2024-12-08</td>\n",
       "      <td>One-time</td>\n",
       "      <td>No</td>\n",
       "      <td>Board Member</td>\n",
       "      <td>3584.99</td>\n",
       "    </tr>\n",
       "    <tr>\n",
       "      <th>21</th>\n",
       "      <td>Daniel Johnson</td>\n",
       "      <td>2024-12-08</td>\n",
       "      <td>One-time</td>\n",
       "      <td>No</td>\n",
       "      <td>Board Member</td>\n",
       "      <td>3584.99</td>\n",
       "    </tr>\n",
       "    <tr>\n",
       "      <th>32</th>\n",
       "      <td>Lisa Jackson</td>\n",
       "      <td>2022-07-14</td>\n",
       "      <td>One-time</td>\n",
       "      <td>Yes</td>\n",
       "      <td>Board Member</td>\n",
       "      <td>3203.16</td>\n",
       "    </tr>\n",
       "    <tr>\n",
       "      <th>3</th>\n",
       "      <td>Lisa Jackson</td>\n",
       "      <td>2022-07-14</td>\n",
       "      <td>One-time</td>\n",
       "      <td>Yes</td>\n",
       "      <td>Board Member</td>\n",
       "      <td>3203.16</td>\n",
       "    </tr>\n",
       "    <tr>\n",
       "      <th>8</th>\n",
       "      <td>Elizabeth Clark</td>\n",
       "      <td>2022-01-07</td>\n",
       "      <td>Quarterly</td>\n",
       "      <td>Yes</td>\n",
       "      <td>Volunteer</td>\n",
       "      <td>1525.74</td>\n",
       "    </tr>\n",
       "    <tr>\n",
       "      <th>23</th>\n",
       "      <td>Elizabeth Clark</td>\n",
       "      <td>2022-01-07</td>\n",
       "      <td>Quarterly</td>\n",
       "      <td>Yes</td>\n",
       "      <td>Volunteer</td>\n",
       "      <td>1525.74</td>\n",
       "    </tr>\n",
       "  </tbody>\n",
       "</table>\n",
       "</div>"
      ],
      "text/plain": [
       "         Donor Name Last Gift Date Gift Frequency Event Attendance  \\\n",
       "20    Daniel Harris     2022-06-27      Quarterly               No   \n",
       "7     Daniel Harris     2022-06-27      Quarterly               No   \n",
       "1        Lisa Brown     2023-10-28      Quarterly               No   \n",
       "31       Lisa Brown     2023-10-28      Quarterly               No   \n",
       "17   Daniel Johnson     2024-12-08       One-time               No   \n",
       "21   Daniel Johnson     2024-12-08       One-time               No   \n",
       "32     Lisa Jackson     2022-07-14       One-time              Yes   \n",
       "3      Lisa Jackson     2022-07-14       One-time              Yes   \n",
       "8   Elizabeth Clark     2022-01-07      Quarterly              Yes   \n",
       "23  Elizabeth Clark     2022-01-07      Quarterly              Yes   \n",
       "\n",
       "   Relationship Notes  TotalDonations  \n",
       "20          Volunteer         4184.96  \n",
       "7           Volunteer         4184.96  \n",
       "1           Volunteer         3974.09  \n",
       "31          Volunteer         3974.09  \n",
       "17       Board Member         3584.99  \n",
       "21       Board Member         3584.99  \n",
       "32       Board Member         3203.16  \n",
       "3        Board Member         3203.16  \n",
       "8           Volunteer         1525.74  \n",
       "23          Volunteer         1525.74  "
      ]
     },
     "execution_count": 23,
     "metadata": {},
     "output_type": "execute_result"
    }
   ],
   "source": [
    "#Top n last and first donors\n",
    "Topdonors_2022 = Topdonors_2022[['Donor Name', 'Donations 2022',\n",
    "                                 'Last Gift Date', 'Gift Frequency',\n",
    "                                 'Event Attendance', 'Relationship Notes', 'TotalDonations']]\n",
    "Topdonors_2023 = Topdonors_2023[['Donor Name', 'Donations 2023',\n",
    "                                 'Last Gift Date', 'Gift Frequency',\n",
    "                                 'Event Attendance', 'Relationship Notes', 'TotalDonations']]\n",
    "Topdonors_2024 = Topdonors_2024[['Donor Name', 'Donations 2024',\n",
    "                                 'Last Gift Date', 'Gift Frequency',\n",
    "                                 'Event Attendance', 'Relationship Notes', 'TotalDonations']]\n",
    "Topdonors_allyears = Topdonors_allyears[['Donor Name','Last Gift Date', 'Gift Frequency',\n",
    "                                 'Event Attendance', 'Relationship Notes', 'TotalDonations']]\n",
    "Topdonors_2022.head(10)\n",
    "Topdonors_2022.tail(10)\n",
    "Topdonors_2023.head(10)\n",
    "Topdonors_2023.tail(10)\n",
    "Topdonors_2024.head(10)\n",
    "Topdonors_2024.tail(10)\n",
    "Topdonors_allyears.head(10)\n",
    "Topdonors_allyears.tail(10)"
   ]
  },
  {
   "cell_type": "markdown",
   "id": "cdd27854-3d53-4b5c-b108-5fe80ea2ea96",
   "metadata": {},
   "source": [
    "## VISUALIZATIONS"
   ]
  },
  {
   "cell_type": "code",
   "execution_count": 24,
   "id": "ea65aa81-2325-45e5-8f6b-24e76085606f",
   "metadata": {},
   "outputs": [
    {
     "data": {
      "application/vnd.plotly.v1+json": {
       "config": {
        "plotlyServerURL": "https://plot.ly"
       },
       "data": [
        {
         "domain": {
          "x": [
           0,
           1
          ],
          "y": [
           0,
           1
          ]
         },
         "hovertemplate": "Frequency=%{label}<br>Counts=%{value}<extra></extra>",
         "labels": [
          "Quarterly",
          "One-time",
          "Annual",
          "Monthly",
          "Quarterly; Annual"
         ],
         "legendgroup": "",
         "name": "",
         "showlegend": true,
         "type": "pie",
         "values": {
          "bdata": "DgwIBgE=",
          "dtype": "i1"
         }
        }
       ],
       "layout": {
        "height": 500,
        "legend": {
         "tracegroupgap": 0
        },
        "template": {
         "data": {
          "bar": [
           {
            "error_x": {
             "color": "#2a3f5f"
            },
            "error_y": {
             "color": "#2a3f5f"
            },
            "marker": {
             "line": {
              "color": "#E5ECF6",
              "width": 0.5
             },
             "pattern": {
              "fillmode": "overlay",
              "size": 10,
              "solidity": 0.2
             }
            },
            "type": "bar"
           }
          ],
          "barpolar": [
           {
            "marker": {
             "line": {
              "color": "#E5ECF6",
              "width": 0.5
             },
             "pattern": {
              "fillmode": "overlay",
              "size": 10,
              "solidity": 0.2
             }
            },
            "type": "barpolar"
           }
          ],
          "carpet": [
           {
            "aaxis": {
             "endlinecolor": "#2a3f5f",
             "gridcolor": "white",
             "linecolor": "white",
             "minorgridcolor": "white",
             "startlinecolor": "#2a3f5f"
            },
            "baxis": {
             "endlinecolor": "#2a3f5f",
             "gridcolor": "white",
             "linecolor": "white",
             "minorgridcolor": "white",
             "startlinecolor": "#2a3f5f"
            },
            "type": "carpet"
           }
          ],
          "choropleth": [
           {
            "colorbar": {
             "outlinewidth": 0,
             "ticks": ""
            },
            "type": "choropleth"
           }
          ],
          "contour": [
           {
            "colorbar": {
             "outlinewidth": 0,
             "ticks": ""
            },
            "colorscale": [
             [
              0,
              "#0d0887"
             ],
             [
              0.1111111111111111,
              "#46039f"
             ],
             [
              0.2222222222222222,
              "#7201a8"
             ],
             [
              0.3333333333333333,
              "#9c179e"
             ],
             [
              0.4444444444444444,
              "#bd3786"
             ],
             [
              0.5555555555555556,
              "#d8576b"
             ],
             [
              0.6666666666666666,
              "#ed7953"
             ],
             [
              0.7777777777777778,
              "#fb9f3a"
             ],
             [
              0.8888888888888888,
              "#fdca26"
             ],
             [
              1,
              "#f0f921"
             ]
            ],
            "type": "contour"
           }
          ],
          "contourcarpet": [
           {
            "colorbar": {
             "outlinewidth": 0,
             "ticks": ""
            },
            "type": "contourcarpet"
           }
          ],
          "heatmap": [
           {
            "colorbar": {
             "outlinewidth": 0,
             "ticks": ""
            },
            "colorscale": [
             [
              0,
              "#0d0887"
             ],
             [
              0.1111111111111111,
              "#46039f"
             ],
             [
              0.2222222222222222,
              "#7201a8"
             ],
             [
              0.3333333333333333,
              "#9c179e"
             ],
             [
              0.4444444444444444,
              "#bd3786"
             ],
             [
              0.5555555555555556,
              "#d8576b"
             ],
             [
              0.6666666666666666,
              "#ed7953"
             ],
             [
              0.7777777777777778,
              "#fb9f3a"
             ],
             [
              0.8888888888888888,
              "#fdca26"
             ],
             [
              1,
              "#f0f921"
             ]
            ],
            "type": "heatmap"
           }
          ],
          "histogram": [
           {
            "marker": {
             "pattern": {
              "fillmode": "overlay",
              "size": 10,
              "solidity": 0.2
             }
            },
            "type": "histogram"
           }
          ],
          "histogram2d": [
           {
            "colorbar": {
             "outlinewidth": 0,
             "ticks": ""
            },
            "colorscale": [
             [
              0,
              "#0d0887"
             ],
             [
              0.1111111111111111,
              "#46039f"
             ],
             [
              0.2222222222222222,
              "#7201a8"
             ],
             [
              0.3333333333333333,
              "#9c179e"
             ],
             [
              0.4444444444444444,
              "#bd3786"
             ],
             [
              0.5555555555555556,
              "#d8576b"
             ],
             [
              0.6666666666666666,
              "#ed7953"
             ],
             [
              0.7777777777777778,
              "#fb9f3a"
             ],
             [
              0.8888888888888888,
              "#fdca26"
             ],
             [
              1,
              "#f0f921"
             ]
            ],
            "type": "histogram2d"
           }
          ],
          "histogram2dcontour": [
           {
            "colorbar": {
             "outlinewidth": 0,
             "ticks": ""
            },
            "colorscale": [
             [
              0,
              "#0d0887"
             ],
             [
              0.1111111111111111,
              "#46039f"
             ],
             [
              0.2222222222222222,
              "#7201a8"
             ],
             [
              0.3333333333333333,
              "#9c179e"
             ],
             [
              0.4444444444444444,
              "#bd3786"
             ],
             [
              0.5555555555555556,
              "#d8576b"
             ],
             [
              0.6666666666666666,
              "#ed7953"
             ],
             [
              0.7777777777777778,
              "#fb9f3a"
             ],
             [
              0.8888888888888888,
              "#fdca26"
             ],
             [
              1,
              "#f0f921"
             ]
            ],
            "type": "histogram2dcontour"
           }
          ],
          "mesh3d": [
           {
            "colorbar": {
             "outlinewidth": 0,
             "ticks": ""
            },
            "type": "mesh3d"
           }
          ],
          "parcoords": [
           {
            "line": {
             "colorbar": {
              "outlinewidth": 0,
              "ticks": ""
             }
            },
            "type": "parcoords"
           }
          ],
          "pie": [
           {
            "automargin": true,
            "type": "pie"
           }
          ],
          "scatter": [
           {
            "fillpattern": {
             "fillmode": "overlay",
             "size": 10,
             "solidity": 0.2
            },
            "type": "scatter"
           }
          ],
          "scatter3d": [
           {
            "line": {
             "colorbar": {
              "outlinewidth": 0,
              "ticks": ""
             }
            },
            "marker": {
             "colorbar": {
              "outlinewidth": 0,
              "ticks": ""
             }
            },
            "type": "scatter3d"
           }
          ],
          "scattercarpet": [
           {
            "marker": {
             "colorbar": {
              "outlinewidth": 0,
              "ticks": ""
             }
            },
            "type": "scattercarpet"
           }
          ],
          "scattergeo": [
           {
            "marker": {
             "colorbar": {
              "outlinewidth": 0,
              "ticks": ""
             }
            },
            "type": "scattergeo"
           }
          ],
          "scattergl": [
           {
            "marker": {
             "colorbar": {
              "outlinewidth": 0,
              "ticks": ""
             }
            },
            "type": "scattergl"
           }
          ],
          "scattermap": [
           {
            "marker": {
             "colorbar": {
              "outlinewidth": 0,
              "ticks": ""
             }
            },
            "type": "scattermap"
           }
          ],
          "scattermapbox": [
           {
            "marker": {
             "colorbar": {
              "outlinewidth": 0,
              "ticks": ""
             }
            },
            "type": "scattermapbox"
           }
          ],
          "scatterpolar": [
           {
            "marker": {
             "colorbar": {
              "outlinewidth": 0,
              "ticks": ""
             }
            },
            "type": "scatterpolar"
           }
          ],
          "scatterpolargl": [
           {
            "marker": {
             "colorbar": {
              "outlinewidth": 0,
              "ticks": ""
             }
            },
            "type": "scatterpolargl"
           }
          ],
          "scatterternary": [
           {
            "marker": {
             "colorbar": {
              "outlinewidth": 0,
              "ticks": ""
             }
            },
            "type": "scatterternary"
           }
          ],
          "surface": [
           {
            "colorbar": {
             "outlinewidth": 0,
             "ticks": ""
            },
            "colorscale": [
             [
              0,
              "#0d0887"
             ],
             [
              0.1111111111111111,
              "#46039f"
             ],
             [
              0.2222222222222222,
              "#7201a8"
             ],
             [
              0.3333333333333333,
              "#9c179e"
             ],
             [
              0.4444444444444444,
              "#bd3786"
             ],
             [
              0.5555555555555556,
              "#d8576b"
             ],
             [
              0.6666666666666666,
              "#ed7953"
             ],
             [
              0.7777777777777778,
              "#fb9f3a"
             ],
             [
              0.8888888888888888,
              "#fdca26"
             ],
             [
              1,
              "#f0f921"
             ]
            ],
            "type": "surface"
           }
          ],
          "table": [
           {
            "cells": {
             "fill": {
              "color": "#EBF0F8"
             },
             "line": {
              "color": "white"
             }
            },
            "header": {
             "fill": {
              "color": "#C8D4E3"
             },
             "line": {
              "color": "white"
             }
            },
            "type": "table"
           }
          ]
         },
         "layout": {
          "annotationdefaults": {
           "arrowcolor": "#2a3f5f",
           "arrowhead": 0,
           "arrowwidth": 1
          },
          "autotypenumbers": "strict",
          "coloraxis": {
           "colorbar": {
            "outlinewidth": 0,
            "ticks": ""
           }
          },
          "colorscale": {
           "diverging": [
            [
             0,
             "#8e0152"
            ],
            [
             0.1,
             "#c51b7d"
            ],
            [
             0.2,
             "#de77ae"
            ],
            [
             0.3,
             "#f1b6da"
            ],
            [
             0.4,
             "#fde0ef"
            ],
            [
             0.5,
             "#f7f7f7"
            ],
            [
             0.6,
             "#e6f5d0"
            ],
            [
             0.7,
             "#b8e186"
            ],
            [
             0.8,
             "#7fbc41"
            ],
            [
             0.9,
             "#4d9221"
            ],
            [
             1,
             "#276419"
            ]
           ],
           "sequential": [
            [
             0,
             "#0d0887"
            ],
            [
             0.1111111111111111,
             "#46039f"
            ],
            [
             0.2222222222222222,
             "#7201a8"
            ],
            [
             0.3333333333333333,
             "#9c179e"
            ],
            [
             0.4444444444444444,
             "#bd3786"
            ],
            [
             0.5555555555555556,
             "#d8576b"
            ],
            [
             0.6666666666666666,
             "#ed7953"
            ],
            [
             0.7777777777777778,
             "#fb9f3a"
            ],
            [
             0.8888888888888888,
             "#fdca26"
            ],
            [
             1,
             "#f0f921"
            ]
           ],
           "sequentialminus": [
            [
             0,
             "#0d0887"
            ],
            [
             0.1111111111111111,
             "#46039f"
            ],
            [
             0.2222222222222222,
             "#7201a8"
            ],
            [
             0.3333333333333333,
             "#9c179e"
            ],
            [
             0.4444444444444444,
             "#bd3786"
            ],
            [
             0.5555555555555556,
             "#d8576b"
            ],
            [
             0.6666666666666666,
             "#ed7953"
            ],
            [
             0.7777777777777778,
             "#fb9f3a"
            ],
            [
             0.8888888888888888,
             "#fdca26"
            ],
            [
             1,
             "#f0f921"
            ]
           ]
          },
          "colorway": [
           "#636efa",
           "#EF553B",
           "#00cc96",
           "#ab63fa",
           "#FFA15A",
           "#19d3f3",
           "#FF6692",
           "#B6E880",
           "#FF97FF",
           "#FECB52"
          ],
          "font": {
           "color": "#2a3f5f"
          },
          "geo": {
           "bgcolor": "white",
           "lakecolor": "white",
           "landcolor": "#E5ECF6",
           "showlakes": true,
           "showland": true,
           "subunitcolor": "white"
          },
          "hoverlabel": {
           "align": "left"
          },
          "hovermode": "closest",
          "mapbox": {
           "style": "light"
          },
          "paper_bgcolor": "white",
          "plot_bgcolor": "#E5ECF6",
          "polar": {
           "angularaxis": {
            "gridcolor": "white",
            "linecolor": "white",
            "ticks": ""
           },
           "bgcolor": "#E5ECF6",
           "radialaxis": {
            "gridcolor": "white",
            "linecolor": "white",
            "ticks": ""
           }
          },
          "scene": {
           "xaxis": {
            "backgroundcolor": "#E5ECF6",
            "gridcolor": "white",
            "gridwidth": 2,
            "linecolor": "white",
            "showbackground": true,
            "ticks": "",
            "zerolinecolor": "white"
           },
           "yaxis": {
            "backgroundcolor": "#E5ECF6",
            "gridcolor": "white",
            "gridwidth": 2,
            "linecolor": "white",
            "showbackground": true,
            "ticks": "",
            "zerolinecolor": "white"
           },
           "zaxis": {
            "backgroundcolor": "#E5ECF6",
            "gridcolor": "white",
            "gridwidth": 2,
            "linecolor": "white",
            "showbackground": true,
            "ticks": "",
            "zerolinecolor": "white"
           }
          },
          "shapedefaults": {
           "line": {
            "color": "#2a3f5f"
           }
          },
          "ternary": {
           "aaxis": {
            "gridcolor": "white",
            "linecolor": "white",
            "ticks": ""
           },
           "baxis": {
            "gridcolor": "white",
            "linecolor": "white",
            "ticks": ""
           },
           "bgcolor": "#E5ECF6",
           "caxis": {
            "gridcolor": "white",
            "linecolor": "white",
            "ticks": ""
           }
          },
          "title": {
           "x": 0.05
          },
          "xaxis": {
           "automargin": true,
           "gridcolor": "white",
           "linecolor": "white",
           "ticks": "",
           "title": {
            "standoff": 15
           },
           "zerolinecolor": "white",
           "zerolinewidth": 2
          },
          "yaxis": {
           "automargin": true,
           "gridcolor": "white",
           "linecolor": "white",
           "ticks": "",
           "title": {
            "standoff": 15
           },
           "zerolinecolor": "white",
           "zerolinewidth": 2
          }
         }
        },
        "title": {
         "text": "Distribution of Yearly Gift Frequencies"
        },
        "width": 500
       }
      }
     },
     "metadata": {},
     "output_type": "display_data"
    }
   ],
   "source": [
    "#PIECHART OF GIFT FREQUENCIES \n",
    "gift_frequency = data[\"Gift Frequency\"].value_counts().reset_index()\n",
    "gift_frequency.columns = [\"Frequency\", \"Counts\"]\n",
    "gift_freqplot = px.pie(gift_frequency,\n",
    "                       names='Frequency', \n",
    "                       values='Counts', \n",
    "                       title='Distribution of Yearly Gift Frequencies',\n",
    "                       width=500,\n",
    "                       height=500 )\n",
    "gift_freqplot.show()"
   ]
  },
  {
   "cell_type": "code",
   "execution_count": 25,
   "id": "405a6f16-49b2-4fd2-8585-14b8dd30980e",
   "metadata": {},
   "outputs": [
    {
     "data": {
      "application/vnd.plotly.v1+json": {
       "config": {
        "plotlyServerURL": "https://plot.ly"
       },
       "data": [
        {
         "bingroup": "x",
         "hovertemplate": "Last Gift Date=%{x}<br>count=%{y}<extra></extra>",
         "legendgroup": "",
         "marker": {
          "color": "#636efa",
          "pattern": {
           "shape": ""
          }
         },
         "name": "",
         "nbinsx": 15,
         "orientation": "v",
         "showlegend": false,
         "type": "histogram",
         "x": [
          "2023-03-10",
          "2023-10-28",
          "2024-04-07",
          "2022-07-14",
          "2024-01-02",
          "2022-12-12",
          "2023-06-01",
          "2022-06-27",
          "2022-01-07",
          "2023-09-14",
          "2024-03-04",
          "2022-12-20",
          "2023-06-05",
          "2024-02-29",
          "2023-01-18",
          "2022-08-14",
          "2024-11-03",
          "2024-12-08",
          "2022-04-08",
          "2023-01-18",
          "2022-06-27",
          "2024-12-08",
          "2024-02-21",
          "2022-01-07",
          "2022-04-08",
          "2023-06-01",
          "2023-12-26",
          "2024-11-03",
          "2024-10-10",
          "2023-09-14",
          "2023-06-05",
          "2023-10-28",
          "2022-07-14",
          "2022-12-20",
          "2024-02-29",
          "2024-03-04",
          "2022-12-12",
          "2024-01-02",
          "2022-08-14",
          "2023-03-10",
          "2024-04-07"
         ],
         "xaxis": "x",
         "yaxis": "y"
        }
       ],
       "layout": {
        "barmode": "relative",
        "height": 500,
        "legend": {
         "tracegroupgap": 0
        },
        "template": {
         "data": {
          "bar": [
           {
            "error_x": {
             "color": "#2a3f5f"
            },
            "error_y": {
             "color": "#2a3f5f"
            },
            "marker": {
             "line": {
              "color": "#E5ECF6",
              "width": 0.5
             },
             "pattern": {
              "fillmode": "overlay",
              "size": 10,
              "solidity": 0.2
             }
            },
            "type": "bar"
           }
          ],
          "barpolar": [
           {
            "marker": {
             "line": {
              "color": "#E5ECF6",
              "width": 0.5
             },
             "pattern": {
              "fillmode": "overlay",
              "size": 10,
              "solidity": 0.2
             }
            },
            "type": "barpolar"
           }
          ],
          "carpet": [
           {
            "aaxis": {
             "endlinecolor": "#2a3f5f",
             "gridcolor": "white",
             "linecolor": "white",
             "minorgridcolor": "white",
             "startlinecolor": "#2a3f5f"
            },
            "baxis": {
             "endlinecolor": "#2a3f5f",
             "gridcolor": "white",
             "linecolor": "white",
             "minorgridcolor": "white",
             "startlinecolor": "#2a3f5f"
            },
            "type": "carpet"
           }
          ],
          "choropleth": [
           {
            "colorbar": {
             "outlinewidth": 0,
             "ticks": ""
            },
            "type": "choropleth"
           }
          ],
          "contour": [
           {
            "colorbar": {
             "outlinewidth": 0,
             "ticks": ""
            },
            "colorscale": [
             [
              0,
              "#0d0887"
             ],
             [
              0.1111111111111111,
              "#46039f"
             ],
             [
              0.2222222222222222,
              "#7201a8"
             ],
             [
              0.3333333333333333,
              "#9c179e"
             ],
             [
              0.4444444444444444,
              "#bd3786"
             ],
             [
              0.5555555555555556,
              "#d8576b"
             ],
             [
              0.6666666666666666,
              "#ed7953"
             ],
             [
              0.7777777777777778,
              "#fb9f3a"
             ],
             [
              0.8888888888888888,
              "#fdca26"
             ],
             [
              1,
              "#f0f921"
             ]
            ],
            "type": "contour"
           }
          ],
          "contourcarpet": [
           {
            "colorbar": {
             "outlinewidth": 0,
             "ticks": ""
            },
            "type": "contourcarpet"
           }
          ],
          "heatmap": [
           {
            "colorbar": {
             "outlinewidth": 0,
             "ticks": ""
            },
            "colorscale": [
             [
              0,
              "#0d0887"
             ],
             [
              0.1111111111111111,
              "#46039f"
             ],
             [
              0.2222222222222222,
              "#7201a8"
             ],
             [
              0.3333333333333333,
              "#9c179e"
             ],
             [
              0.4444444444444444,
              "#bd3786"
             ],
             [
              0.5555555555555556,
              "#d8576b"
             ],
             [
              0.6666666666666666,
              "#ed7953"
             ],
             [
              0.7777777777777778,
              "#fb9f3a"
             ],
             [
              0.8888888888888888,
              "#fdca26"
             ],
             [
              1,
              "#f0f921"
             ]
            ],
            "type": "heatmap"
           }
          ],
          "histogram": [
           {
            "marker": {
             "pattern": {
              "fillmode": "overlay",
              "size": 10,
              "solidity": 0.2
             }
            },
            "type": "histogram"
           }
          ],
          "histogram2d": [
           {
            "colorbar": {
             "outlinewidth": 0,
             "ticks": ""
            },
            "colorscale": [
             [
              0,
              "#0d0887"
             ],
             [
              0.1111111111111111,
              "#46039f"
             ],
             [
              0.2222222222222222,
              "#7201a8"
             ],
             [
              0.3333333333333333,
              "#9c179e"
             ],
             [
              0.4444444444444444,
              "#bd3786"
             ],
             [
              0.5555555555555556,
              "#d8576b"
             ],
             [
              0.6666666666666666,
              "#ed7953"
             ],
             [
              0.7777777777777778,
              "#fb9f3a"
             ],
             [
              0.8888888888888888,
              "#fdca26"
             ],
             [
              1,
              "#f0f921"
             ]
            ],
            "type": "histogram2d"
           }
          ],
          "histogram2dcontour": [
           {
            "colorbar": {
             "outlinewidth": 0,
             "ticks": ""
            },
            "colorscale": [
             [
              0,
              "#0d0887"
             ],
             [
              0.1111111111111111,
              "#46039f"
             ],
             [
              0.2222222222222222,
              "#7201a8"
             ],
             [
              0.3333333333333333,
              "#9c179e"
             ],
             [
              0.4444444444444444,
              "#bd3786"
             ],
             [
              0.5555555555555556,
              "#d8576b"
             ],
             [
              0.6666666666666666,
              "#ed7953"
             ],
             [
              0.7777777777777778,
              "#fb9f3a"
             ],
             [
              0.8888888888888888,
              "#fdca26"
             ],
             [
              1,
              "#f0f921"
             ]
            ],
            "type": "histogram2dcontour"
           }
          ],
          "mesh3d": [
           {
            "colorbar": {
             "outlinewidth": 0,
             "ticks": ""
            },
            "type": "mesh3d"
           }
          ],
          "parcoords": [
           {
            "line": {
             "colorbar": {
              "outlinewidth": 0,
              "ticks": ""
             }
            },
            "type": "parcoords"
           }
          ],
          "pie": [
           {
            "automargin": true,
            "type": "pie"
           }
          ],
          "scatter": [
           {
            "fillpattern": {
             "fillmode": "overlay",
             "size": 10,
             "solidity": 0.2
            },
            "type": "scatter"
           }
          ],
          "scatter3d": [
           {
            "line": {
             "colorbar": {
              "outlinewidth": 0,
              "ticks": ""
             }
            },
            "marker": {
             "colorbar": {
              "outlinewidth": 0,
              "ticks": ""
             }
            },
            "type": "scatter3d"
           }
          ],
          "scattercarpet": [
           {
            "marker": {
             "colorbar": {
              "outlinewidth": 0,
              "ticks": ""
             }
            },
            "type": "scattercarpet"
           }
          ],
          "scattergeo": [
           {
            "marker": {
             "colorbar": {
              "outlinewidth": 0,
              "ticks": ""
             }
            },
            "type": "scattergeo"
           }
          ],
          "scattergl": [
           {
            "marker": {
             "colorbar": {
              "outlinewidth": 0,
              "ticks": ""
             }
            },
            "type": "scattergl"
           }
          ],
          "scattermap": [
           {
            "marker": {
             "colorbar": {
              "outlinewidth": 0,
              "ticks": ""
             }
            },
            "type": "scattermap"
           }
          ],
          "scattermapbox": [
           {
            "marker": {
             "colorbar": {
              "outlinewidth": 0,
              "ticks": ""
             }
            },
            "type": "scattermapbox"
           }
          ],
          "scatterpolar": [
           {
            "marker": {
             "colorbar": {
              "outlinewidth": 0,
              "ticks": ""
             }
            },
            "type": "scatterpolar"
           }
          ],
          "scatterpolargl": [
           {
            "marker": {
             "colorbar": {
              "outlinewidth": 0,
              "ticks": ""
             }
            },
            "type": "scatterpolargl"
           }
          ],
          "scatterternary": [
           {
            "marker": {
             "colorbar": {
              "outlinewidth": 0,
              "ticks": ""
             }
            },
            "type": "scatterternary"
           }
          ],
          "surface": [
           {
            "colorbar": {
             "outlinewidth": 0,
             "ticks": ""
            },
            "colorscale": [
             [
              0,
              "#0d0887"
             ],
             [
              0.1111111111111111,
              "#46039f"
             ],
             [
              0.2222222222222222,
              "#7201a8"
             ],
             [
              0.3333333333333333,
              "#9c179e"
             ],
             [
              0.4444444444444444,
              "#bd3786"
             ],
             [
              0.5555555555555556,
              "#d8576b"
             ],
             [
              0.6666666666666666,
              "#ed7953"
             ],
             [
              0.7777777777777778,
              "#fb9f3a"
             ],
             [
              0.8888888888888888,
              "#fdca26"
             ],
             [
              1,
              "#f0f921"
             ]
            ],
            "type": "surface"
           }
          ],
          "table": [
           {
            "cells": {
             "fill": {
              "color": "#EBF0F8"
             },
             "line": {
              "color": "white"
             }
            },
            "header": {
             "fill": {
              "color": "#C8D4E3"
             },
             "line": {
              "color": "white"
             }
            },
            "type": "table"
           }
          ]
         },
         "layout": {
          "annotationdefaults": {
           "arrowcolor": "#2a3f5f",
           "arrowhead": 0,
           "arrowwidth": 1
          },
          "autotypenumbers": "strict",
          "coloraxis": {
           "colorbar": {
            "outlinewidth": 0,
            "ticks": ""
           }
          },
          "colorscale": {
           "diverging": [
            [
             0,
             "#8e0152"
            ],
            [
             0.1,
             "#c51b7d"
            ],
            [
             0.2,
             "#de77ae"
            ],
            [
             0.3,
             "#f1b6da"
            ],
            [
             0.4,
             "#fde0ef"
            ],
            [
             0.5,
             "#f7f7f7"
            ],
            [
             0.6,
             "#e6f5d0"
            ],
            [
             0.7,
             "#b8e186"
            ],
            [
             0.8,
             "#7fbc41"
            ],
            [
             0.9,
             "#4d9221"
            ],
            [
             1,
             "#276419"
            ]
           ],
           "sequential": [
            [
             0,
             "#0d0887"
            ],
            [
             0.1111111111111111,
             "#46039f"
            ],
            [
             0.2222222222222222,
             "#7201a8"
            ],
            [
             0.3333333333333333,
             "#9c179e"
            ],
            [
             0.4444444444444444,
             "#bd3786"
            ],
            [
             0.5555555555555556,
             "#d8576b"
            ],
            [
             0.6666666666666666,
             "#ed7953"
            ],
            [
             0.7777777777777778,
             "#fb9f3a"
            ],
            [
             0.8888888888888888,
             "#fdca26"
            ],
            [
             1,
             "#f0f921"
            ]
           ],
           "sequentialminus": [
            [
             0,
             "#0d0887"
            ],
            [
             0.1111111111111111,
             "#46039f"
            ],
            [
             0.2222222222222222,
             "#7201a8"
            ],
            [
             0.3333333333333333,
             "#9c179e"
            ],
            [
             0.4444444444444444,
             "#bd3786"
            ],
            [
             0.5555555555555556,
             "#d8576b"
            ],
            [
             0.6666666666666666,
             "#ed7953"
            ],
            [
             0.7777777777777778,
             "#fb9f3a"
            ],
            [
             0.8888888888888888,
             "#fdca26"
            ],
            [
             1,
             "#f0f921"
            ]
           ]
          },
          "colorway": [
           "#636efa",
           "#EF553B",
           "#00cc96",
           "#ab63fa",
           "#FFA15A",
           "#19d3f3",
           "#FF6692",
           "#B6E880",
           "#FF97FF",
           "#FECB52"
          ],
          "font": {
           "color": "#2a3f5f"
          },
          "geo": {
           "bgcolor": "white",
           "lakecolor": "white",
           "landcolor": "#E5ECF6",
           "showlakes": true,
           "showland": true,
           "subunitcolor": "white"
          },
          "hoverlabel": {
           "align": "left"
          },
          "hovermode": "closest",
          "mapbox": {
           "style": "light"
          },
          "paper_bgcolor": "white",
          "plot_bgcolor": "#E5ECF6",
          "polar": {
           "angularaxis": {
            "gridcolor": "white",
            "linecolor": "white",
            "ticks": ""
           },
           "bgcolor": "#E5ECF6",
           "radialaxis": {
            "gridcolor": "white",
            "linecolor": "white",
            "ticks": ""
           }
          },
          "scene": {
           "xaxis": {
            "backgroundcolor": "#E5ECF6",
            "gridcolor": "white",
            "gridwidth": 2,
            "linecolor": "white",
            "showbackground": true,
            "ticks": "",
            "zerolinecolor": "white"
           },
           "yaxis": {
            "backgroundcolor": "#E5ECF6",
            "gridcolor": "white",
            "gridwidth": 2,
            "linecolor": "white",
            "showbackground": true,
            "ticks": "",
            "zerolinecolor": "white"
           },
           "zaxis": {
            "backgroundcolor": "#E5ECF6",
            "gridcolor": "white",
            "gridwidth": 2,
            "linecolor": "white",
            "showbackground": true,
            "ticks": "",
            "zerolinecolor": "white"
           }
          },
          "shapedefaults": {
           "line": {
            "color": "#2a3f5f"
           }
          },
          "ternary": {
           "aaxis": {
            "gridcolor": "white",
            "linecolor": "white",
            "ticks": ""
           },
           "baxis": {
            "gridcolor": "white",
            "linecolor": "white",
            "ticks": ""
           },
           "bgcolor": "#E5ECF6",
           "caxis": {
            "gridcolor": "white",
            "linecolor": "white",
            "ticks": ""
           }
          },
          "title": {
           "x": 0.05
          },
          "xaxis": {
           "automargin": true,
           "gridcolor": "white",
           "linecolor": "white",
           "ticks": "",
           "title": {
            "standoff": 15
           },
           "zerolinecolor": "white",
           "zerolinewidth": 2
          },
          "yaxis": {
           "automargin": true,
           "gridcolor": "white",
           "linecolor": "white",
           "ticks": "",
           "title": {
            "standoff": 15
           },
           "zerolinecolor": "white",
           "zerolinewidth": 2
          }
         }
        },
        "title": {
         "text": "TIMELINE OF LAST GIFT By DATES",
         "x": 0.5,
         "xanchor": "center"
        },
        "width": 800,
        "xaxis": {
         "anchor": "y",
         "domain": [
          0,
          1
         ],
         "gridcolor": "lightgrey",
         "gridwidth": 1,
         "showgrid": true,
         "title": {
          "text": "Date of Last Gift"
         }
        },
        "yaxis": {
         "anchor": "x",
         "domain": [
          0,
          1
         ],
         "gridcolor": "lightgrey",
         "gridwidth": 1,
         "showgrid": true,
         "title": {
          "text": "Number of Gifts"
         }
        }
       }
      }
     },
     "metadata": {},
     "output_type": "display_data"
    }
   ],
   "source": [
    "#TIMELINE OF LAST GIFT DATE\n",
    "lastgiftplot = px.histogram(\n",
    "    data, \n",
    "    x = \"Last Gift Date\", \n",
    "    nbins = 15,\n",
    "    title = \"TIMELINE OF LAST GIFT By DATES\",\n",
    "    width = 800,\n",
    "    height = 500\n",
    ")\n",
    "\n",
    "# Center title\n",
    "lastgiftplot.update_layout(\n",
    "    title={'x': 0.5, 'xanchor': 'center'},\n",
    "    xaxis_title=\"Date of Last Gift\",\n",
    "    yaxis_title=\"Number of Gifts\",\n",
    "    xaxis=dict(showgrid=True, gridcolor='lightgrey', gridwidth=1),\n",
    "    yaxis=dict(showgrid=True, gridcolor='lightgrey', gridwidth=1)\n",
    "\n",
    ")\n",
    "\n",
    "lastgiftplot.show()\n"
   ]
  },
  {
   "cell_type": "code",
   "execution_count": 26,
   "id": "86b884d6-ca10-48e4-a86b-3bac9511680b",
   "metadata": {},
   "outputs": [
    {
     "data": {
      "application/vnd.plotly.v1+json": {
       "config": {
        "plotlyServerURL": "https://plot.ly"
       },
       "data": [
        {
         "hovertemplate": "Donation Year=%{x}<br>Total Amount=%{text}<extra></extra>",
         "legendgroup": "",
         "marker": {
          "color": "#636efa",
          "pattern": {
           "shape": ""
          }
         },
         "name": "",
         "orientation": "v",
         "showlegend": false,
         "text": {
          "bdata": "16NwPUqy+UCkcD0KQz34QNejcD0+CfVAFK5H4TK+EUE=",
          "dtype": "f8"
         },
         "textposition": "auto",
         "type": "bar",
         "x": [
          "Donations 2022",
          "Donations 2023",
          "Donations 2024",
          "TotalDonations"
         ],
         "xaxis": "x",
         "y": {
          "bdata": "16NwPUqy+UCkcD0KQz34QNejcD0+CfVAFK5H4TK+EUE=",
          "dtype": "f8"
         },
         "yaxis": "y"
        }
       ],
       "layout": {
        "barmode": "relative",
        "height": 500,
        "legend": {
         "tracegroupgap": 0
        },
        "template": {
         "data": {
          "bar": [
           {
            "error_x": {
             "color": "#2a3f5f"
            },
            "error_y": {
             "color": "#2a3f5f"
            },
            "marker": {
             "line": {
              "color": "#E5ECF6",
              "width": 0.5
             },
             "pattern": {
              "fillmode": "overlay",
              "size": 10,
              "solidity": 0.2
             }
            },
            "type": "bar"
           }
          ],
          "barpolar": [
           {
            "marker": {
             "line": {
              "color": "#E5ECF6",
              "width": 0.5
             },
             "pattern": {
              "fillmode": "overlay",
              "size": 10,
              "solidity": 0.2
             }
            },
            "type": "barpolar"
           }
          ],
          "carpet": [
           {
            "aaxis": {
             "endlinecolor": "#2a3f5f",
             "gridcolor": "white",
             "linecolor": "white",
             "minorgridcolor": "white",
             "startlinecolor": "#2a3f5f"
            },
            "baxis": {
             "endlinecolor": "#2a3f5f",
             "gridcolor": "white",
             "linecolor": "white",
             "minorgridcolor": "white",
             "startlinecolor": "#2a3f5f"
            },
            "type": "carpet"
           }
          ],
          "choropleth": [
           {
            "colorbar": {
             "outlinewidth": 0,
             "ticks": ""
            },
            "type": "choropleth"
           }
          ],
          "contour": [
           {
            "colorbar": {
             "outlinewidth": 0,
             "ticks": ""
            },
            "colorscale": [
             [
              0,
              "#0d0887"
             ],
             [
              0.1111111111111111,
              "#46039f"
             ],
             [
              0.2222222222222222,
              "#7201a8"
             ],
             [
              0.3333333333333333,
              "#9c179e"
             ],
             [
              0.4444444444444444,
              "#bd3786"
             ],
             [
              0.5555555555555556,
              "#d8576b"
             ],
             [
              0.6666666666666666,
              "#ed7953"
             ],
             [
              0.7777777777777778,
              "#fb9f3a"
             ],
             [
              0.8888888888888888,
              "#fdca26"
             ],
             [
              1,
              "#f0f921"
             ]
            ],
            "type": "contour"
           }
          ],
          "contourcarpet": [
           {
            "colorbar": {
             "outlinewidth": 0,
             "ticks": ""
            },
            "type": "contourcarpet"
           }
          ],
          "heatmap": [
           {
            "colorbar": {
             "outlinewidth": 0,
             "ticks": ""
            },
            "colorscale": [
             [
              0,
              "#0d0887"
             ],
             [
              0.1111111111111111,
              "#46039f"
             ],
             [
              0.2222222222222222,
              "#7201a8"
             ],
             [
              0.3333333333333333,
              "#9c179e"
             ],
             [
              0.4444444444444444,
              "#bd3786"
             ],
             [
              0.5555555555555556,
              "#d8576b"
             ],
             [
              0.6666666666666666,
              "#ed7953"
             ],
             [
              0.7777777777777778,
              "#fb9f3a"
             ],
             [
              0.8888888888888888,
              "#fdca26"
             ],
             [
              1,
              "#f0f921"
             ]
            ],
            "type": "heatmap"
           }
          ],
          "histogram": [
           {
            "marker": {
             "pattern": {
              "fillmode": "overlay",
              "size": 10,
              "solidity": 0.2
             }
            },
            "type": "histogram"
           }
          ],
          "histogram2d": [
           {
            "colorbar": {
             "outlinewidth": 0,
             "ticks": ""
            },
            "colorscale": [
             [
              0,
              "#0d0887"
             ],
             [
              0.1111111111111111,
              "#46039f"
             ],
             [
              0.2222222222222222,
              "#7201a8"
             ],
             [
              0.3333333333333333,
              "#9c179e"
             ],
             [
              0.4444444444444444,
              "#bd3786"
             ],
             [
              0.5555555555555556,
              "#d8576b"
             ],
             [
              0.6666666666666666,
              "#ed7953"
             ],
             [
              0.7777777777777778,
              "#fb9f3a"
             ],
             [
              0.8888888888888888,
              "#fdca26"
             ],
             [
              1,
              "#f0f921"
             ]
            ],
            "type": "histogram2d"
           }
          ],
          "histogram2dcontour": [
           {
            "colorbar": {
             "outlinewidth": 0,
             "ticks": ""
            },
            "colorscale": [
             [
              0,
              "#0d0887"
             ],
             [
              0.1111111111111111,
              "#46039f"
             ],
             [
              0.2222222222222222,
              "#7201a8"
             ],
             [
              0.3333333333333333,
              "#9c179e"
             ],
             [
              0.4444444444444444,
              "#bd3786"
             ],
             [
              0.5555555555555556,
              "#d8576b"
             ],
             [
              0.6666666666666666,
              "#ed7953"
             ],
             [
              0.7777777777777778,
              "#fb9f3a"
             ],
             [
              0.8888888888888888,
              "#fdca26"
             ],
             [
              1,
              "#f0f921"
             ]
            ],
            "type": "histogram2dcontour"
           }
          ],
          "mesh3d": [
           {
            "colorbar": {
             "outlinewidth": 0,
             "ticks": ""
            },
            "type": "mesh3d"
           }
          ],
          "parcoords": [
           {
            "line": {
             "colorbar": {
              "outlinewidth": 0,
              "ticks": ""
             }
            },
            "type": "parcoords"
           }
          ],
          "pie": [
           {
            "automargin": true,
            "type": "pie"
           }
          ],
          "scatter": [
           {
            "fillpattern": {
             "fillmode": "overlay",
             "size": 10,
             "solidity": 0.2
            },
            "type": "scatter"
           }
          ],
          "scatter3d": [
           {
            "line": {
             "colorbar": {
              "outlinewidth": 0,
              "ticks": ""
             }
            },
            "marker": {
             "colorbar": {
              "outlinewidth": 0,
              "ticks": ""
             }
            },
            "type": "scatter3d"
           }
          ],
          "scattercarpet": [
           {
            "marker": {
             "colorbar": {
              "outlinewidth": 0,
              "ticks": ""
             }
            },
            "type": "scattercarpet"
           }
          ],
          "scattergeo": [
           {
            "marker": {
             "colorbar": {
              "outlinewidth": 0,
              "ticks": ""
             }
            },
            "type": "scattergeo"
           }
          ],
          "scattergl": [
           {
            "marker": {
             "colorbar": {
              "outlinewidth": 0,
              "ticks": ""
             }
            },
            "type": "scattergl"
           }
          ],
          "scattermap": [
           {
            "marker": {
             "colorbar": {
              "outlinewidth": 0,
              "ticks": ""
             }
            },
            "type": "scattermap"
           }
          ],
          "scattermapbox": [
           {
            "marker": {
             "colorbar": {
              "outlinewidth": 0,
              "ticks": ""
             }
            },
            "type": "scattermapbox"
           }
          ],
          "scatterpolar": [
           {
            "marker": {
             "colorbar": {
              "outlinewidth": 0,
              "ticks": ""
             }
            },
            "type": "scatterpolar"
           }
          ],
          "scatterpolargl": [
           {
            "marker": {
             "colorbar": {
              "outlinewidth": 0,
              "ticks": ""
             }
            },
            "type": "scatterpolargl"
           }
          ],
          "scatterternary": [
           {
            "marker": {
             "colorbar": {
              "outlinewidth": 0,
              "ticks": ""
             }
            },
            "type": "scatterternary"
           }
          ],
          "surface": [
           {
            "colorbar": {
             "outlinewidth": 0,
             "ticks": ""
            },
            "colorscale": [
             [
              0,
              "#0d0887"
             ],
             [
              0.1111111111111111,
              "#46039f"
             ],
             [
              0.2222222222222222,
              "#7201a8"
             ],
             [
              0.3333333333333333,
              "#9c179e"
             ],
             [
              0.4444444444444444,
              "#bd3786"
             ],
             [
              0.5555555555555556,
              "#d8576b"
             ],
             [
              0.6666666666666666,
              "#ed7953"
             ],
             [
              0.7777777777777778,
              "#fb9f3a"
             ],
             [
              0.8888888888888888,
              "#fdca26"
             ],
             [
              1,
              "#f0f921"
             ]
            ],
            "type": "surface"
           }
          ],
          "table": [
           {
            "cells": {
             "fill": {
              "color": "#EBF0F8"
             },
             "line": {
              "color": "white"
             }
            },
            "header": {
             "fill": {
              "color": "#C8D4E3"
             },
             "line": {
              "color": "white"
             }
            },
            "type": "table"
           }
          ]
         },
         "layout": {
          "annotationdefaults": {
           "arrowcolor": "#2a3f5f",
           "arrowhead": 0,
           "arrowwidth": 1
          },
          "autotypenumbers": "strict",
          "coloraxis": {
           "colorbar": {
            "outlinewidth": 0,
            "ticks": ""
           }
          },
          "colorscale": {
           "diverging": [
            [
             0,
             "#8e0152"
            ],
            [
             0.1,
             "#c51b7d"
            ],
            [
             0.2,
             "#de77ae"
            ],
            [
             0.3,
             "#f1b6da"
            ],
            [
             0.4,
             "#fde0ef"
            ],
            [
             0.5,
             "#f7f7f7"
            ],
            [
             0.6,
             "#e6f5d0"
            ],
            [
             0.7,
             "#b8e186"
            ],
            [
             0.8,
             "#7fbc41"
            ],
            [
             0.9,
             "#4d9221"
            ],
            [
             1,
             "#276419"
            ]
           ],
           "sequential": [
            [
             0,
             "#0d0887"
            ],
            [
             0.1111111111111111,
             "#46039f"
            ],
            [
             0.2222222222222222,
             "#7201a8"
            ],
            [
             0.3333333333333333,
             "#9c179e"
            ],
            [
             0.4444444444444444,
             "#bd3786"
            ],
            [
             0.5555555555555556,
             "#d8576b"
            ],
            [
             0.6666666666666666,
             "#ed7953"
            ],
            [
             0.7777777777777778,
             "#fb9f3a"
            ],
            [
             0.8888888888888888,
             "#fdca26"
            ],
            [
             1,
             "#f0f921"
            ]
           ],
           "sequentialminus": [
            [
             0,
             "#0d0887"
            ],
            [
             0.1111111111111111,
             "#46039f"
            ],
            [
             0.2222222222222222,
             "#7201a8"
            ],
            [
             0.3333333333333333,
             "#9c179e"
            ],
            [
             0.4444444444444444,
             "#bd3786"
            ],
            [
             0.5555555555555556,
             "#d8576b"
            ],
            [
             0.6666666666666666,
             "#ed7953"
            ],
            [
             0.7777777777777778,
             "#fb9f3a"
            ],
            [
             0.8888888888888888,
             "#fdca26"
            ],
            [
             1,
             "#f0f921"
            ]
           ]
          },
          "colorway": [
           "#636efa",
           "#EF553B",
           "#00cc96",
           "#ab63fa",
           "#FFA15A",
           "#19d3f3",
           "#FF6692",
           "#B6E880",
           "#FF97FF",
           "#FECB52"
          ],
          "font": {
           "color": "#2a3f5f"
          },
          "geo": {
           "bgcolor": "white",
           "lakecolor": "white",
           "landcolor": "#E5ECF6",
           "showlakes": true,
           "showland": true,
           "subunitcolor": "white"
          },
          "hoverlabel": {
           "align": "left"
          },
          "hovermode": "closest",
          "mapbox": {
           "style": "light"
          },
          "paper_bgcolor": "white",
          "plot_bgcolor": "#E5ECF6",
          "polar": {
           "angularaxis": {
            "gridcolor": "white",
            "linecolor": "white",
            "ticks": ""
           },
           "bgcolor": "#E5ECF6",
           "radialaxis": {
            "gridcolor": "white",
            "linecolor": "white",
            "ticks": ""
           }
          },
          "scene": {
           "xaxis": {
            "backgroundcolor": "#E5ECF6",
            "gridcolor": "white",
            "gridwidth": 2,
            "linecolor": "white",
            "showbackground": true,
            "ticks": "",
            "zerolinecolor": "white"
           },
           "yaxis": {
            "backgroundcolor": "#E5ECF6",
            "gridcolor": "white",
            "gridwidth": 2,
            "linecolor": "white",
            "showbackground": true,
            "ticks": "",
            "zerolinecolor": "white"
           },
           "zaxis": {
            "backgroundcolor": "#E5ECF6",
            "gridcolor": "white",
            "gridwidth": 2,
            "linecolor": "white",
            "showbackground": true,
            "ticks": "",
            "zerolinecolor": "white"
           }
          },
          "shapedefaults": {
           "line": {
            "color": "#2a3f5f"
           }
          },
          "ternary": {
           "aaxis": {
            "gridcolor": "white",
            "linecolor": "white",
            "ticks": ""
           },
           "baxis": {
            "gridcolor": "white",
            "linecolor": "white",
            "ticks": ""
           },
           "bgcolor": "#E5ECF6",
           "caxis": {
            "gridcolor": "white",
            "linecolor": "white",
            "ticks": ""
           }
          },
          "title": {
           "x": 0.05
          },
          "xaxis": {
           "automargin": true,
           "gridcolor": "white",
           "linecolor": "white",
           "ticks": "",
           "title": {
            "standoff": 15
           },
           "zerolinecolor": "white",
           "zerolinewidth": 2
          },
          "yaxis": {
           "automargin": true,
           "gridcolor": "white",
           "linecolor": "white",
           "ticks": "",
           "title": {
            "standoff": 15
           },
           "zerolinecolor": "white",
           "zerolinewidth": 2
          }
         }
        },
        "title": {
         "text": "Total Donations by Year",
         "x": 0.5
        },
        "width": 600,
        "xaxis": {
         "anchor": "y",
         "domain": [
          0,
          1
         ],
         "gridcolor": "lightblue",
         "showgrid": true,
         "title": {
          "text": "Year"
         }
        },
        "yaxis": {
         "anchor": "x",
         "domain": [
          0,
          1
         ],
         "gridcolor": "lightgrey",
         "showgrid": true,
         "title": {
          "text": "Donation Amount"
         }
        }
       }
      }
     },
     "metadata": {},
     "output_type": "display_data"
    }
   ],
   "source": [
    "#Summation of donations \n",
    "col_totals = data[['Donations 2022', 'Donations 2023', 'Donations 2024', 'TotalDonations']].sum()\n",
    "\n",
    "# data processing\n",
    "col_totals_df = col_totals.reset_index()\n",
    "col_totals_df.columns = ['Donation Year', 'Total Amount']\n",
    "\n",
    "# Plot\n",
    "fig = px.bar(\n",
    "    col_totals_df,\n",
    "    x='Donation Year',\n",
    "    y='Total Amount',\n",
    "    title=\"Total Donations by Year\",\n",
    "    text='Total Amount',\n",
    "    width=600,\n",
    "    height=500\n",
    ")\n",
    "\n",
    "# layout\n",
    "fig.update_layout(\n",
    "    title={'x': 0.5},\n",
    "    xaxis_title=\"Year\",\n",
    "    yaxis_title=\"Donation Amount\",\n",
    "    yaxis=dict(showgrid=True, gridcolor='lightgrey'),\n",
    "    xaxis=dict(showgrid=True, gridcolor='lightblue')\n",
    ")\n",
    "\n",
    "\n",
    "fig.show()\n"
   ]
  },
  {
   "cell_type": "code",
   "execution_count": 27,
   "id": "b7c4f123-0640-4e66-83f5-a00bd1779a22",
   "metadata": {},
   "outputs": [
    {
     "data": {
      "text/html": [
       "<div>\n",
       "<style scoped>\n",
       "    .dataframe tbody tr th:only-of-type {\n",
       "        vertical-align: middle;\n",
       "    }\n",
       "\n",
       "    .dataframe tbody tr th {\n",
       "        vertical-align: top;\n",
       "    }\n",
       "\n",
       "    .dataframe thead th {\n",
       "        text-align: right;\n",
       "    }\n",
       "</style>\n",
       "<table border=\"1\" class=\"dataframe\">\n",
       "  <thead>\n",
       "    <tr style=\"text-align: right;\">\n",
       "      <th></th>\n",
       "      <th>Donor Name</th>\n",
       "      <th>Contact Email</th>\n",
       "      <th>Phone</th>\n",
       "      <th>Donations 2022</th>\n",
       "      <th>Donations 2023</th>\n",
       "      <th>Donations 2024</th>\n",
       "      <th>Last Gift Date</th>\n",
       "      <th>Gift Frequency</th>\n",
       "      <th>Event Attendance</th>\n",
       "      <th>Relationship Notes</th>\n",
       "      <th>TotalDonations</th>\n",
       "    </tr>\n",
       "  </thead>\n",
       "  <tbody>\n",
       "    <tr>\n",
       "      <th>0</th>\n",
       "      <td>Susan Robinson</td>\n",
       "      <td>susan.robinson@example.com</td>\n",
       "      <td>(484)-902-7196</td>\n",
       "      <td>4267.59</td>\n",
       "      <td>2234.24</td>\n",
       "      <td>0.0</td>\n",
       "      <td>2023-03-10</td>\n",
       "      <td>Annual</td>\n",
       "      <td>No</td>\n",
       "      <td>Community Partner</td>\n",
       "      <td>6501.83</td>\n",
       "    </tr>\n",
       "    <tr>\n",
       "      <th>1</th>\n",
       "      <td>Lisa Brown</td>\n",
       "      <td>lisa.brown@example.com</td>\n",
       "      <td>(429)-965-9203</td>\n",
       "      <td>1248.66</td>\n",
       "      <td>2725.43</td>\n",
       "      <td>0.0</td>\n",
       "      <td>2023-10-28</td>\n",
       "      <td>Quarterly</td>\n",
       "      <td>No</td>\n",
       "      <td>Volunteer</td>\n",
       "      <td>3974.09</td>\n",
       "    </tr>\n",
       "    <tr>\n",
       "      <th>2</th>\n",
       "      <td>William Johnson</td>\n",
       "      <td>william.johnson@example.com</td>\n",
       "      <td>(284)-404-5846</td>\n",
       "      <td>2141.78</td>\n",
       "      <td>4269.25</td>\n",
       "      <td>4483.5</td>\n",
       "      <td>2024-04-07</td>\n",
       "      <td>Quarterly</td>\n",
       "      <td>No</td>\n",
       "      <td>Unknown</td>\n",
       "      <td>10894.53</td>\n",
       "    </tr>\n",
       "  </tbody>\n",
       "</table>\n",
       "</div>"
      ],
      "text/plain": [
       "        Donor Name                Contact Email           Phone  \\\n",
       "0   Susan Robinson   susan.robinson@example.com  (484)-902-7196   \n",
       "1       Lisa Brown       lisa.brown@example.com  (429)-965-9203   \n",
       "2  William Johnson  william.johnson@example.com  (284)-404-5846   \n",
       "\n",
       "   Donations 2022  Donations 2023  Donations 2024 Last Gift Date  \\\n",
       "0         4267.59         2234.24             0.0     2023-03-10   \n",
       "1         1248.66         2725.43             0.0     2023-10-28   \n",
       "2         2141.78         4269.25          4483.5     2024-04-07   \n",
       "\n",
       "  Gift Frequency Event Attendance Relationship Notes  TotalDonations  \n",
       "0         Annual               No  Community Partner         6501.83  \n",
       "1      Quarterly               No          Volunteer         3974.09  \n",
       "2      Quarterly               No            Unknown        10894.53  "
      ]
     },
     "execution_count": 27,
     "metadata": {},
     "output_type": "execute_result"
    }
   ],
   "source": [
    "\n",
    "data.head(3)"
   ]
  },
  {
   "cell_type": "code",
   "execution_count": 28,
   "id": "f60d6a16-43d8-4892-8ba7-e4bff51fd0e9",
   "metadata": {},
   "outputs": [
    {
     "data": {
      "application/vnd.plotly.v1+json": {
       "config": {
        "plotlyServerURL": "https://plot.ly"
       },
       "data": [
        {
         "domain": {
          "x": [
           0,
           1
          ],
          "y": [
           0,
           1
          ]
         },
         "hole": 0.6,
         "hovertemplate": "Event Attendance=%{label}<br>Counts=%{value}<extra></extra>",
         "labels": [
          "No",
          "Yes"
         ],
         "legendgroup": "",
         "name": "",
         "showlegend": true,
         "type": "pie",
         "values": {
          "bdata": "HA0=",
          "dtype": "i1"
         }
        }
       ],
       "layout": {
        "height": 500,
        "legend": {
         "tracegroupgap": 0
        },
        "template": {
         "data": {
          "bar": [
           {
            "error_x": {
             "color": "#2a3f5f"
            },
            "error_y": {
             "color": "#2a3f5f"
            },
            "marker": {
             "line": {
              "color": "#E5ECF6",
              "width": 0.5
             },
             "pattern": {
              "fillmode": "overlay",
              "size": 10,
              "solidity": 0.2
             }
            },
            "type": "bar"
           }
          ],
          "barpolar": [
           {
            "marker": {
             "line": {
              "color": "#E5ECF6",
              "width": 0.5
             },
             "pattern": {
              "fillmode": "overlay",
              "size": 10,
              "solidity": 0.2
             }
            },
            "type": "barpolar"
           }
          ],
          "carpet": [
           {
            "aaxis": {
             "endlinecolor": "#2a3f5f",
             "gridcolor": "white",
             "linecolor": "white",
             "minorgridcolor": "white",
             "startlinecolor": "#2a3f5f"
            },
            "baxis": {
             "endlinecolor": "#2a3f5f",
             "gridcolor": "white",
             "linecolor": "white",
             "minorgridcolor": "white",
             "startlinecolor": "#2a3f5f"
            },
            "type": "carpet"
           }
          ],
          "choropleth": [
           {
            "colorbar": {
             "outlinewidth": 0,
             "ticks": ""
            },
            "type": "choropleth"
           }
          ],
          "contour": [
           {
            "colorbar": {
             "outlinewidth": 0,
             "ticks": ""
            },
            "colorscale": [
             [
              0,
              "#0d0887"
             ],
             [
              0.1111111111111111,
              "#46039f"
             ],
             [
              0.2222222222222222,
              "#7201a8"
             ],
             [
              0.3333333333333333,
              "#9c179e"
             ],
             [
              0.4444444444444444,
              "#bd3786"
             ],
             [
              0.5555555555555556,
              "#d8576b"
             ],
             [
              0.6666666666666666,
              "#ed7953"
             ],
             [
              0.7777777777777778,
              "#fb9f3a"
             ],
             [
              0.8888888888888888,
              "#fdca26"
             ],
             [
              1,
              "#f0f921"
             ]
            ],
            "type": "contour"
           }
          ],
          "contourcarpet": [
           {
            "colorbar": {
             "outlinewidth": 0,
             "ticks": ""
            },
            "type": "contourcarpet"
           }
          ],
          "heatmap": [
           {
            "colorbar": {
             "outlinewidth": 0,
             "ticks": ""
            },
            "colorscale": [
             [
              0,
              "#0d0887"
             ],
             [
              0.1111111111111111,
              "#46039f"
             ],
             [
              0.2222222222222222,
              "#7201a8"
             ],
             [
              0.3333333333333333,
              "#9c179e"
             ],
             [
              0.4444444444444444,
              "#bd3786"
             ],
             [
              0.5555555555555556,
              "#d8576b"
             ],
             [
              0.6666666666666666,
              "#ed7953"
             ],
             [
              0.7777777777777778,
              "#fb9f3a"
             ],
             [
              0.8888888888888888,
              "#fdca26"
             ],
             [
              1,
              "#f0f921"
             ]
            ],
            "type": "heatmap"
           }
          ],
          "histogram": [
           {
            "marker": {
             "pattern": {
              "fillmode": "overlay",
              "size": 10,
              "solidity": 0.2
             }
            },
            "type": "histogram"
           }
          ],
          "histogram2d": [
           {
            "colorbar": {
             "outlinewidth": 0,
             "ticks": ""
            },
            "colorscale": [
             [
              0,
              "#0d0887"
             ],
             [
              0.1111111111111111,
              "#46039f"
             ],
             [
              0.2222222222222222,
              "#7201a8"
             ],
             [
              0.3333333333333333,
              "#9c179e"
             ],
             [
              0.4444444444444444,
              "#bd3786"
             ],
             [
              0.5555555555555556,
              "#d8576b"
             ],
             [
              0.6666666666666666,
              "#ed7953"
             ],
             [
              0.7777777777777778,
              "#fb9f3a"
             ],
             [
              0.8888888888888888,
              "#fdca26"
             ],
             [
              1,
              "#f0f921"
             ]
            ],
            "type": "histogram2d"
           }
          ],
          "histogram2dcontour": [
           {
            "colorbar": {
             "outlinewidth": 0,
             "ticks": ""
            },
            "colorscale": [
             [
              0,
              "#0d0887"
             ],
             [
              0.1111111111111111,
              "#46039f"
             ],
             [
              0.2222222222222222,
              "#7201a8"
             ],
             [
              0.3333333333333333,
              "#9c179e"
             ],
             [
              0.4444444444444444,
              "#bd3786"
             ],
             [
              0.5555555555555556,
              "#d8576b"
             ],
             [
              0.6666666666666666,
              "#ed7953"
             ],
             [
              0.7777777777777778,
              "#fb9f3a"
             ],
             [
              0.8888888888888888,
              "#fdca26"
             ],
             [
              1,
              "#f0f921"
             ]
            ],
            "type": "histogram2dcontour"
           }
          ],
          "mesh3d": [
           {
            "colorbar": {
             "outlinewidth": 0,
             "ticks": ""
            },
            "type": "mesh3d"
           }
          ],
          "parcoords": [
           {
            "line": {
             "colorbar": {
              "outlinewidth": 0,
              "ticks": ""
             }
            },
            "type": "parcoords"
           }
          ],
          "pie": [
           {
            "automargin": true,
            "type": "pie"
           }
          ],
          "scatter": [
           {
            "fillpattern": {
             "fillmode": "overlay",
             "size": 10,
             "solidity": 0.2
            },
            "type": "scatter"
           }
          ],
          "scatter3d": [
           {
            "line": {
             "colorbar": {
              "outlinewidth": 0,
              "ticks": ""
             }
            },
            "marker": {
             "colorbar": {
              "outlinewidth": 0,
              "ticks": ""
             }
            },
            "type": "scatter3d"
           }
          ],
          "scattercarpet": [
           {
            "marker": {
             "colorbar": {
              "outlinewidth": 0,
              "ticks": ""
             }
            },
            "type": "scattercarpet"
           }
          ],
          "scattergeo": [
           {
            "marker": {
             "colorbar": {
              "outlinewidth": 0,
              "ticks": ""
             }
            },
            "type": "scattergeo"
           }
          ],
          "scattergl": [
           {
            "marker": {
             "colorbar": {
              "outlinewidth": 0,
              "ticks": ""
             }
            },
            "type": "scattergl"
           }
          ],
          "scattermap": [
           {
            "marker": {
             "colorbar": {
              "outlinewidth": 0,
              "ticks": ""
             }
            },
            "type": "scattermap"
           }
          ],
          "scattermapbox": [
           {
            "marker": {
             "colorbar": {
              "outlinewidth": 0,
              "ticks": ""
             }
            },
            "type": "scattermapbox"
           }
          ],
          "scatterpolar": [
           {
            "marker": {
             "colorbar": {
              "outlinewidth": 0,
              "ticks": ""
             }
            },
            "type": "scatterpolar"
           }
          ],
          "scatterpolargl": [
           {
            "marker": {
             "colorbar": {
              "outlinewidth": 0,
              "ticks": ""
             }
            },
            "type": "scatterpolargl"
           }
          ],
          "scatterternary": [
           {
            "marker": {
             "colorbar": {
              "outlinewidth": 0,
              "ticks": ""
             }
            },
            "type": "scatterternary"
           }
          ],
          "surface": [
           {
            "colorbar": {
             "outlinewidth": 0,
             "ticks": ""
            },
            "colorscale": [
             [
              0,
              "#0d0887"
             ],
             [
              0.1111111111111111,
              "#46039f"
             ],
             [
              0.2222222222222222,
              "#7201a8"
             ],
             [
              0.3333333333333333,
              "#9c179e"
             ],
             [
              0.4444444444444444,
              "#bd3786"
             ],
             [
              0.5555555555555556,
              "#d8576b"
             ],
             [
              0.6666666666666666,
              "#ed7953"
             ],
             [
              0.7777777777777778,
              "#fb9f3a"
             ],
             [
              0.8888888888888888,
              "#fdca26"
             ],
             [
              1,
              "#f0f921"
             ]
            ],
            "type": "surface"
           }
          ],
          "table": [
           {
            "cells": {
             "fill": {
              "color": "#EBF0F8"
             },
             "line": {
              "color": "white"
             }
            },
            "header": {
             "fill": {
              "color": "#C8D4E3"
             },
             "line": {
              "color": "white"
             }
            },
            "type": "table"
           }
          ]
         },
         "layout": {
          "annotationdefaults": {
           "arrowcolor": "#2a3f5f",
           "arrowhead": 0,
           "arrowwidth": 1
          },
          "autotypenumbers": "strict",
          "coloraxis": {
           "colorbar": {
            "outlinewidth": 0,
            "ticks": ""
           }
          },
          "colorscale": {
           "diverging": [
            [
             0,
             "#8e0152"
            ],
            [
             0.1,
             "#c51b7d"
            ],
            [
             0.2,
             "#de77ae"
            ],
            [
             0.3,
             "#f1b6da"
            ],
            [
             0.4,
             "#fde0ef"
            ],
            [
             0.5,
             "#f7f7f7"
            ],
            [
             0.6,
             "#e6f5d0"
            ],
            [
             0.7,
             "#b8e186"
            ],
            [
             0.8,
             "#7fbc41"
            ],
            [
             0.9,
             "#4d9221"
            ],
            [
             1,
             "#276419"
            ]
           ],
           "sequential": [
            [
             0,
             "#0d0887"
            ],
            [
             0.1111111111111111,
             "#46039f"
            ],
            [
             0.2222222222222222,
             "#7201a8"
            ],
            [
             0.3333333333333333,
             "#9c179e"
            ],
            [
             0.4444444444444444,
             "#bd3786"
            ],
            [
             0.5555555555555556,
             "#d8576b"
            ],
            [
             0.6666666666666666,
             "#ed7953"
            ],
            [
             0.7777777777777778,
             "#fb9f3a"
            ],
            [
             0.8888888888888888,
             "#fdca26"
            ],
            [
             1,
             "#f0f921"
            ]
           ],
           "sequentialminus": [
            [
             0,
             "#0d0887"
            ],
            [
             0.1111111111111111,
             "#46039f"
            ],
            [
             0.2222222222222222,
             "#7201a8"
            ],
            [
             0.3333333333333333,
             "#9c179e"
            ],
            [
             0.4444444444444444,
             "#bd3786"
            ],
            [
             0.5555555555555556,
             "#d8576b"
            ],
            [
             0.6666666666666666,
             "#ed7953"
            ],
            [
             0.7777777777777778,
             "#fb9f3a"
            ],
            [
             0.8888888888888888,
             "#fdca26"
            ],
            [
             1,
             "#f0f921"
            ]
           ]
          },
          "colorway": [
           "#636efa",
           "#EF553B",
           "#00cc96",
           "#ab63fa",
           "#FFA15A",
           "#19d3f3",
           "#FF6692",
           "#B6E880",
           "#FF97FF",
           "#FECB52"
          ],
          "font": {
           "color": "#2a3f5f"
          },
          "geo": {
           "bgcolor": "white",
           "lakecolor": "white",
           "landcolor": "#E5ECF6",
           "showlakes": true,
           "showland": true,
           "subunitcolor": "white"
          },
          "hoverlabel": {
           "align": "left"
          },
          "hovermode": "closest",
          "mapbox": {
           "style": "light"
          },
          "paper_bgcolor": "white",
          "plot_bgcolor": "#E5ECF6",
          "polar": {
           "angularaxis": {
            "gridcolor": "white",
            "linecolor": "white",
            "ticks": ""
           },
           "bgcolor": "#E5ECF6",
           "radialaxis": {
            "gridcolor": "white",
            "linecolor": "white",
            "ticks": ""
           }
          },
          "scene": {
           "xaxis": {
            "backgroundcolor": "#E5ECF6",
            "gridcolor": "white",
            "gridwidth": 2,
            "linecolor": "white",
            "showbackground": true,
            "ticks": "",
            "zerolinecolor": "white"
           },
           "yaxis": {
            "backgroundcolor": "#E5ECF6",
            "gridcolor": "white",
            "gridwidth": 2,
            "linecolor": "white",
            "showbackground": true,
            "ticks": "",
            "zerolinecolor": "white"
           },
           "zaxis": {
            "backgroundcolor": "#E5ECF6",
            "gridcolor": "white",
            "gridwidth": 2,
            "linecolor": "white",
            "showbackground": true,
            "ticks": "",
            "zerolinecolor": "white"
           }
          },
          "shapedefaults": {
           "line": {
            "color": "#2a3f5f"
           }
          },
          "ternary": {
           "aaxis": {
            "gridcolor": "white",
            "linecolor": "white",
            "ticks": ""
           },
           "baxis": {
            "gridcolor": "white",
            "linecolor": "white",
            "ticks": ""
           },
           "bgcolor": "#E5ECF6",
           "caxis": {
            "gridcolor": "white",
            "linecolor": "white",
            "ticks": ""
           }
          },
          "title": {
           "x": 0.05
          },
          "xaxis": {
           "automargin": true,
           "gridcolor": "white",
           "linecolor": "white",
           "ticks": "",
           "title": {
            "standoff": 15
           },
           "zerolinecolor": "white",
           "zerolinewidth": 2
          },
          "yaxis": {
           "automargin": true,
           "gridcolor": "white",
           "linecolor": "white",
           "ticks": "",
           "title": {
            "standoff": 15
           },
           "zerolinecolor": "white",
           "zerolinewidth": 2
          }
         }
        },
        "title": {
         "text": "Event Attendance Representation"
        },
        "width": 500
       }
      },
      "image/png": "[encoded data removed]"
     },
     "metadata": {},
     "output_type": "display_data"
    }
   ],
   "source": [
    "attendance = data[\"Event Attendance\"].value_counts().reset_index()\n",
    "attendance.columns = (\"Event Attendance\", \"Counts\")\n",
    "attendanceplot = px.pie(\n",
    "    attendance, \n",
    "    names = \"Event Attendance\",\n",
    "    values = \"Counts\",\n",
    "    hole = 0.6, \n",
    "    title = \"Event Attendance Representation\",\n",
    "    width=500,\n",
    "    height=500\n",
    ")\n",
    "\n",
    "attendanceplot.show()\n"
   ]
  },
  {
   "cell_type": "code",
   "execution_count": null,
   "id": "5e32d840-35e8-485d-bbf8-02b40a973ec2",
   "metadata": {},
   "outputs": [],
   "source": []
  },
  {
   "cell_type": "code",
   "execution_count": null,
   "id": "d6816dc7-2dbc-4909-bfc7-0e2a6c7f9f4a",
   "metadata": {},
   "outputs": [],
   "source": []
  },
  {
   "cell_type": "code",
   "execution_count": null,
   "id": "91d715da-5e53-4662-8f2a-41affd238193",
   "metadata": {},
   "outputs": [],
   "source": []
  },
  {
   "cell_type": "code",
   "execution_count": null,
   "id": "c34a9d5e-f9e7-4a88-a350-9dfefb86422e",
   "metadata": {},
   "outputs": [],
   "source": []
  },
  {
   "cell_type": "code",
   "execution_count": null,
   "id": "762f6bc0-266a-4149-965e-b836fa97dfaa",
   "metadata": {},
   "outputs": [],
   "source": []
  },
  {
   "cell_type": "code",
   "execution_count": null,
   "id": "5619ef1c-a018-4c16-88a1-8c8c6e80f4d8",
   "metadata": {},
   "outputs": [],
   "source": []
  },
  {
   "cell_type": "code",
   "execution_count": null,
   "id": "b7a067e8-23a3-4fd7-b4f6-0ec3e0c82172",
   "metadata": {},
   "outputs": [],
   "source": []
  },
  {
   "cell_type": "code",
   "execution_count": null,
   "id": "b9390b42-0156-4fab-abd4-49fd7df464ce",
   "metadata": {},
   "outputs": [],
   "source": []
  }
 ],
 "metadata": {
  "kernelspec": {
   "display_name": "Python 3 (ipykernel)",
   "language": "python",
   "name": "python3"
  },
  "language_info": {
   "codemirror_mode": {
    "name": "ipython",
    "version": 3
   },
   "file_extension": ".py",
   "mimetype": "text/x-python",
   "name": "python",
   "nbconvert_exporter": "python",
   "pygments_lexer": "ipython3",
   "version": "3.13.5"
  }
 },
 "nbformat": 4,
 "nbformat_minor": 5
}
